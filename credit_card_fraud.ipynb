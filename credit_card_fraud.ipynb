{
  "cells": [
    {
      "cell_type": "markdown",
      "metadata": {
        "id": "view-in-github",
        "colab_type": "text"
      },
      "source": [
        "<a href=\"https://colab.research.google.com/github/shreyakaushik19/codsoft_machinelearning/blob/main/credit_card_fraud.ipynb\" target=\"_parent\"><img src=\"https://colab.research.google.com/assets/colab-badge.svg\" alt=\"Open In Colab\"/></a>"
      ]
    },
    {
      "cell_type": "markdown",
      "source": [
        "IMPORTING THE DEPENDENCIES\n"
      ],
      "metadata": {
        "id": "RXsYl22m5WcQ"
      },
      "id": "RXsYl22m5WcQ"
    },
    {
      "cell_type": "code",
      "source": [
        "import numpy as np\n",
        "import pandas as pd\n",
        "from sklearn.model_selection import train_test_split\n",
        "from sklearn.linear_model import LogisticRegression\n",
        "from sklearn.metrics import accuracy_score"
      ],
      "metadata": {
        "id": "SyyKK9TG6LS0"
      },
      "id": "SyyKK9TG6LS0",
      "execution_count": 1,
      "outputs": []
    },
    {
      "cell_type": "code",
      "source": [
        "df = pd.read_csv(\"/content/fraudTest.csv\")\n",
        "df.head()"
      ],
      "metadata": {
        "id": "qUnmrYNt7MRT",
        "colab": {
          "base_uri": "https://localhost:8080/",
          "height": 525
        },
        "outputId": "0d87280d-2dce-4b3d-ffeb-6a9e842456ab"
      },
      "id": "qUnmrYNt7MRT",
      "execution_count": 184,
      "outputs": [
        {
          "output_type": "execute_result",
          "data": {
            "text/plain": [
              "   Unnamed: 0 trans_date_trans_time            cc_num  \\\n",
              "0           0   2020-06-21 12:14:25  2291163933867244   \n",
              "1           1   2020-06-21 12:14:33  3573030041201292   \n",
              "2           2   2020-06-21 12:14:53  3598215285024754   \n",
              "3           3   2020-06-21 12:15:15  3591919803438423   \n",
              "4           4   2020-06-21 12:15:17  3526826139003047   \n",
              "\n",
              "                               merchant        category    amt   first  \\\n",
              "0                 fraud_Kirlin and Sons   personal_care   2.86    Jeff   \n",
              "1                  fraud_Sporer-Keebler   personal_care  29.84  Joanne   \n",
              "2  fraud_Swaniawski, Nitzsche and Welch  health_fitness  41.28  Ashley   \n",
              "3                     fraud_Haley Group        misc_pos  60.05   Brian   \n",
              "4                 fraud_Johnston-Casper          travel   3.19  Nathan   \n",
              "\n",
              "       last gender                       street  ...      lat      long  \\\n",
              "0   Elliott      M            351 Darlene Green  ...  33.9659  -80.9355   \n",
              "1  Williams      F             3638 Marsh Union  ...  40.3207 -110.4360   \n",
              "2     Lopez      F         9333 Valentine Point  ...  40.6729  -73.5365   \n",
              "3  Williams      M  32941 Krystal Mill Apt. 552  ...  28.5697  -80.8191   \n",
              "4    Massey      M     5783 Evan Roads Apt. 465  ...  44.2529  -85.0170   \n",
              "\n",
              "   city_pop                     job         dob  \\\n",
              "0  333497.0     Mechanical engineer  1968-03-19   \n",
              "1     302.0  Sales professional, IT  1990-01-17   \n",
              "2   34496.0       Librarian, public  1970-10-21   \n",
              "3   54767.0            Set designer  1987-07-25   \n",
              "4    1126.0      Furniture designer  1955-07-06   \n",
              "\n",
              "                          trans_num     unix_time  merch_lat  merch_long  \\\n",
              "0  2da90c7d74bd46a0caf3777415b3ebd3  1.371817e+09  33.986391  -81.200714   \n",
              "1  324cc204407e99f51b0d6ca0055005e7  1.371817e+09  39.450498 -109.960431   \n",
              "2  c81755dbbbea9d5c77f094348a7579be  1.371817e+09  40.495810  -74.196111   \n",
              "3  2159175b9efe66dc301f149d3d5abf8c  1.371817e+09  28.812398  -80.883061   \n",
              "4  57ff021bd3f328f8738bb535c302a31b  1.371817e+09  44.959148  -85.884734   \n",
              "\n",
              "   is_fraud  \n",
              "0       0.0  \n",
              "1       0.0  \n",
              "2       0.0  \n",
              "3       0.0  \n",
              "4       0.0  \n",
              "\n",
              "[5 rows x 23 columns]"
            ],
            "text/html": [
              "\n",
              "\n",
              "  <div id=\"df-622e81f4-0dcb-4db7-b090-a4fde92527ce\">\n",
              "    <div class=\"colab-df-container\">\n",
              "      <div>\n",
              "<style scoped>\n",
              "    .dataframe tbody tr th:only-of-type {\n",
              "        vertical-align: middle;\n",
              "    }\n",
              "\n",
              "    .dataframe tbody tr th {\n",
              "        vertical-align: top;\n",
              "    }\n",
              "\n",
              "    .dataframe thead th {\n",
              "        text-align: right;\n",
              "    }\n",
              "</style>\n",
              "<table border=\"1\" class=\"dataframe\">\n",
              "  <thead>\n",
              "    <tr style=\"text-align: right;\">\n",
              "      <th></th>\n",
              "      <th>Unnamed: 0</th>\n",
              "      <th>trans_date_trans_time</th>\n",
              "      <th>cc_num</th>\n",
              "      <th>merchant</th>\n",
              "      <th>category</th>\n",
              "      <th>amt</th>\n",
              "      <th>first</th>\n",
              "      <th>last</th>\n",
              "      <th>gender</th>\n",
              "      <th>street</th>\n",
              "      <th>...</th>\n",
              "      <th>lat</th>\n",
              "      <th>long</th>\n",
              "      <th>city_pop</th>\n",
              "      <th>job</th>\n",
              "      <th>dob</th>\n",
              "      <th>trans_num</th>\n",
              "      <th>unix_time</th>\n",
              "      <th>merch_lat</th>\n",
              "      <th>merch_long</th>\n",
              "      <th>is_fraud</th>\n",
              "    </tr>\n",
              "  </thead>\n",
              "  <tbody>\n",
              "    <tr>\n",
              "      <th>0</th>\n",
              "      <td>0</td>\n",
              "      <td>2020-06-21 12:14:25</td>\n",
              "      <td>2291163933867244</td>\n",
              "      <td>fraud_Kirlin and Sons</td>\n",
              "      <td>personal_care</td>\n",
              "      <td>2.86</td>\n",
              "      <td>Jeff</td>\n",
              "      <td>Elliott</td>\n",
              "      <td>M</td>\n",
              "      <td>351 Darlene Green</td>\n",
              "      <td>...</td>\n",
              "      <td>33.9659</td>\n",
              "      <td>-80.9355</td>\n",
              "      <td>333497.0</td>\n",
              "      <td>Mechanical engineer</td>\n",
              "      <td>1968-03-19</td>\n",
              "      <td>2da90c7d74bd46a0caf3777415b3ebd3</td>\n",
              "      <td>1.371817e+09</td>\n",
              "      <td>33.986391</td>\n",
              "      <td>-81.200714</td>\n",
              "      <td>0.0</td>\n",
              "    </tr>\n",
              "    <tr>\n",
              "      <th>1</th>\n",
              "      <td>1</td>\n",
              "      <td>2020-06-21 12:14:33</td>\n",
              "      <td>3573030041201292</td>\n",
              "      <td>fraud_Sporer-Keebler</td>\n",
              "      <td>personal_care</td>\n",
              "      <td>29.84</td>\n",
              "      <td>Joanne</td>\n",
              "      <td>Williams</td>\n",
              "      <td>F</td>\n",
              "      <td>3638 Marsh Union</td>\n",
              "      <td>...</td>\n",
              "      <td>40.3207</td>\n",
              "      <td>-110.4360</td>\n",
              "      <td>302.0</td>\n",
              "      <td>Sales professional, IT</td>\n",
              "      <td>1990-01-17</td>\n",
              "      <td>324cc204407e99f51b0d6ca0055005e7</td>\n",
              "      <td>1.371817e+09</td>\n",
              "      <td>39.450498</td>\n",
              "      <td>-109.960431</td>\n",
              "      <td>0.0</td>\n",
              "    </tr>\n",
              "    <tr>\n",
              "      <th>2</th>\n",
              "      <td>2</td>\n",
              "      <td>2020-06-21 12:14:53</td>\n",
              "      <td>3598215285024754</td>\n",
              "      <td>fraud_Swaniawski, Nitzsche and Welch</td>\n",
              "      <td>health_fitness</td>\n",
              "      <td>41.28</td>\n",
              "      <td>Ashley</td>\n",
              "      <td>Lopez</td>\n",
              "      <td>F</td>\n",
              "      <td>9333 Valentine Point</td>\n",
              "      <td>...</td>\n",
              "      <td>40.6729</td>\n",
              "      <td>-73.5365</td>\n",
              "      <td>34496.0</td>\n",
              "      <td>Librarian, public</td>\n",
              "      <td>1970-10-21</td>\n",
              "      <td>c81755dbbbea9d5c77f094348a7579be</td>\n",
              "      <td>1.371817e+09</td>\n",
              "      <td>40.495810</td>\n",
              "      <td>-74.196111</td>\n",
              "      <td>0.0</td>\n",
              "    </tr>\n",
              "    <tr>\n",
              "      <th>3</th>\n",
              "      <td>3</td>\n",
              "      <td>2020-06-21 12:15:15</td>\n",
              "      <td>3591919803438423</td>\n",
              "      <td>fraud_Haley Group</td>\n",
              "      <td>misc_pos</td>\n",
              "      <td>60.05</td>\n",
              "      <td>Brian</td>\n",
              "      <td>Williams</td>\n",
              "      <td>M</td>\n",
              "      <td>32941 Krystal Mill Apt. 552</td>\n",
              "      <td>...</td>\n",
              "      <td>28.5697</td>\n",
              "      <td>-80.8191</td>\n",
              "      <td>54767.0</td>\n",
              "      <td>Set designer</td>\n",
              "      <td>1987-07-25</td>\n",
              "      <td>2159175b9efe66dc301f149d3d5abf8c</td>\n",
              "      <td>1.371817e+09</td>\n",
              "      <td>28.812398</td>\n",
              "      <td>-80.883061</td>\n",
              "      <td>0.0</td>\n",
              "    </tr>\n",
              "    <tr>\n",
              "      <th>4</th>\n",
              "      <td>4</td>\n",
              "      <td>2020-06-21 12:15:17</td>\n",
              "      <td>3526826139003047</td>\n",
              "      <td>fraud_Johnston-Casper</td>\n",
              "      <td>travel</td>\n",
              "      <td>3.19</td>\n",
              "      <td>Nathan</td>\n",
              "      <td>Massey</td>\n",
              "      <td>M</td>\n",
              "      <td>5783 Evan Roads Apt. 465</td>\n",
              "      <td>...</td>\n",
              "      <td>44.2529</td>\n",
              "      <td>-85.0170</td>\n",
              "      <td>1126.0</td>\n",
              "      <td>Furniture designer</td>\n",
              "      <td>1955-07-06</td>\n",
              "      <td>57ff021bd3f328f8738bb535c302a31b</td>\n",
              "      <td>1.371817e+09</td>\n",
              "      <td>44.959148</td>\n",
              "      <td>-85.884734</td>\n",
              "      <td>0.0</td>\n",
              "    </tr>\n",
              "  </tbody>\n",
              "</table>\n",
              "<p>5 rows × 23 columns</p>\n",
              "</div>\n",
              "      <button class=\"colab-df-convert\" onclick=\"convertToInteractive('df-622e81f4-0dcb-4db7-b090-a4fde92527ce')\"\n",
              "              title=\"Convert this dataframe to an interactive table.\"\n",
              "              style=\"display:none;\">\n",
              "\n",
              "  <svg xmlns=\"http://www.w3.org/2000/svg\" height=\"24px\"viewBox=\"0 0 24 24\"\n",
              "       width=\"24px\">\n",
              "    <path d=\"M0 0h24v24H0V0z\" fill=\"none\"/>\n",
              "    <path d=\"M18.56 5.44l.94 2.06.94-2.06 2.06-.94-2.06-.94-.94-2.06-.94 2.06-2.06.94zm-11 1L8.5 8.5l.94-2.06 2.06-.94-2.06-.94L8.5 2.5l-.94 2.06-2.06.94zm10 10l.94 2.06.94-2.06 2.06-.94-2.06-.94-.94-2.06-.94 2.06-2.06.94z\"/><path d=\"M17.41 7.96l-1.37-1.37c-.4-.4-.92-.59-1.43-.59-.52 0-1.04.2-1.43.59L10.3 9.45l-7.72 7.72c-.78.78-.78 2.05 0 2.83L4 21.41c.39.39.9.59 1.41.59.51 0 1.02-.2 1.41-.59l7.78-7.78 2.81-2.81c.8-.78.8-2.07 0-2.86zM5.41 20L4 18.59l7.72-7.72 1.47 1.35L5.41 20z\"/>\n",
              "  </svg>\n",
              "      </button>\n",
              "\n",
              "\n",
              "\n",
              "    <div id=\"df-051b1ecc-4951-46d1-ba07-fc7679354bbe\">\n",
              "      <button class=\"colab-df-quickchart\" onclick=\"quickchart('df-051b1ecc-4951-46d1-ba07-fc7679354bbe')\"\n",
              "              title=\"Suggest charts.\"\n",
              "              style=\"display:none;\">\n",
              "\n",
              "<svg xmlns=\"http://www.w3.org/2000/svg\" height=\"24px\"viewBox=\"0 0 24 24\"\n",
              "     width=\"24px\">\n",
              "    <g>\n",
              "        <path d=\"M19 3H5c-1.1 0-2 .9-2 2v14c0 1.1.9 2 2 2h14c1.1 0 2-.9 2-2V5c0-1.1-.9-2-2-2zM9 17H7v-7h2v7zm4 0h-2V7h2v10zm4 0h-2v-4h2v4z\"/>\n",
              "    </g>\n",
              "</svg>\n",
              "      </button>\n",
              "    </div>\n",
              "\n",
              "<style>\n",
              "  .colab-df-quickchart {\n",
              "    background-color: #E8F0FE;\n",
              "    border: none;\n",
              "    border-radius: 50%;\n",
              "    cursor: pointer;\n",
              "    display: none;\n",
              "    fill: #1967D2;\n",
              "    height: 32px;\n",
              "    padding: 0 0 0 0;\n",
              "    width: 32px;\n",
              "  }\n",
              "\n",
              "  .colab-df-quickchart:hover {\n",
              "    background-color: #E2EBFA;\n",
              "    box-shadow: 0px 1px 2px rgba(60, 64, 67, 0.3), 0px 1px 3px 1px rgba(60, 64, 67, 0.15);\n",
              "    fill: #174EA6;\n",
              "  }\n",
              "\n",
              "  [theme=dark] .colab-df-quickchart {\n",
              "    background-color: #3B4455;\n",
              "    fill: #D2E3FC;\n",
              "  }\n",
              "\n",
              "  [theme=dark] .colab-df-quickchart:hover {\n",
              "    background-color: #434B5C;\n",
              "    box-shadow: 0px 1px 3px 1px rgba(0, 0, 0, 0.15);\n",
              "    filter: drop-shadow(0px 1px 2px rgba(0, 0, 0, 0.3));\n",
              "    fill: #FFFFFF;\n",
              "  }\n",
              "</style>\n",
              "\n",
              "    <script>\n",
              "      async function quickchart(key) {\n",
              "        const containerElement = document.querySelector('#' + key);\n",
              "        const charts = await google.colab.kernel.invokeFunction(\n",
              "            'suggestCharts', [key], {});\n",
              "      }\n",
              "    </script>\n",
              "\n",
              "      <script>\n",
              "\n",
              "function displayQuickchartButton(domScope) {\n",
              "  let quickchartButtonEl =\n",
              "    domScope.querySelector('#df-051b1ecc-4951-46d1-ba07-fc7679354bbe button.colab-df-quickchart');\n",
              "  quickchartButtonEl.style.display =\n",
              "    google.colab.kernel.accessAllowed ? 'block' : 'none';\n",
              "}\n",
              "\n",
              "        displayQuickchartButton(document);\n",
              "      </script>\n",
              "      <style>\n",
              "    .colab-df-container {\n",
              "      display:flex;\n",
              "      flex-wrap:wrap;\n",
              "      gap: 12px;\n",
              "    }\n",
              "\n",
              "    .colab-df-convert {\n",
              "      background-color: #E8F0FE;\n",
              "      border: none;\n",
              "      border-radius: 50%;\n",
              "      cursor: pointer;\n",
              "      display: none;\n",
              "      fill: #1967D2;\n",
              "      height: 32px;\n",
              "      padding: 0 0 0 0;\n",
              "      width: 32px;\n",
              "    }\n",
              "\n",
              "    .colab-df-convert:hover {\n",
              "      background-color: #E2EBFA;\n",
              "      box-shadow: 0px 1px 2px rgba(60, 64, 67, 0.3), 0px 1px 3px 1px rgba(60, 64, 67, 0.15);\n",
              "      fill: #174EA6;\n",
              "    }\n",
              "\n",
              "    [theme=dark] .colab-df-convert {\n",
              "      background-color: #3B4455;\n",
              "      fill: #D2E3FC;\n",
              "    }\n",
              "\n",
              "    [theme=dark] .colab-df-convert:hover {\n",
              "      background-color: #434B5C;\n",
              "      box-shadow: 0px 1px 3px 1px rgba(0, 0, 0, 0.15);\n",
              "      filter: drop-shadow(0px 1px 2px rgba(0, 0, 0, 0.3));\n",
              "      fill: #FFFFFF;\n",
              "    }\n",
              "  </style>\n",
              "\n",
              "      <script>\n",
              "        const buttonEl =\n",
              "          document.querySelector('#df-622e81f4-0dcb-4db7-b090-a4fde92527ce button.colab-df-convert');\n",
              "        buttonEl.style.display =\n",
              "          google.colab.kernel.accessAllowed ? 'block' : 'none';\n",
              "\n",
              "        async function convertToInteractive(key) {\n",
              "          const element = document.querySelector('#df-622e81f4-0dcb-4db7-b090-a4fde92527ce');\n",
              "          const dataTable =\n",
              "            await google.colab.kernel.invokeFunction('convertToInteractive',\n",
              "                                                     [key], {});\n",
              "          if (!dataTable) return;\n",
              "\n",
              "          const docLinkHtml = 'Like what you see? Visit the ' +\n",
              "            '<a target=\"_blank\" href=https://colab.research.google.com/notebooks/data_table.ipynb>data table notebook</a>'\n",
              "            + ' to learn more about interactive tables.';\n",
              "          element.innerHTML = '';\n",
              "          dataTable['output_type'] = 'display_data';\n",
              "          await google.colab.output.renderOutput(dataTable, element);\n",
              "          const docLink = document.createElement('div');\n",
              "          docLink.innerHTML = docLinkHtml;\n",
              "          element.appendChild(docLink);\n",
              "        }\n",
              "      </script>\n",
              "    </div>\n",
              "  </div>\n"
            ]
          },
          "metadata": {},
          "execution_count": 184
        }
      ]
    },
    {
      "cell_type": "code",
      "source": [
        "df.info()"
      ],
      "metadata": {
        "colab": {
          "base_uri": "https://localhost:8080/"
        },
        "id": "PE9gEMSxwrbe",
        "outputId": "6e0f0377-629f-4a72-92af-b29bd127c353"
      },
      "id": "PE9gEMSxwrbe",
      "execution_count": 185,
      "outputs": [
        {
          "output_type": "stream",
          "name": "stdout",
          "text": [
            "<class 'pandas.core.frame.DataFrame'>\n",
            "RangeIndex: 19466 entries, 0 to 19465\n",
            "Data columns (total 23 columns):\n",
            " #   Column                 Non-Null Count  Dtype  \n",
            "---  ------                 --------------  -----  \n",
            " 0   Unnamed: 0             19466 non-null  int64  \n",
            " 1   trans_date_trans_time  19466 non-null  object \n",
            " 2   cc_num                 19466 non-null  int64  \n",
            " 3   merchant               19466 non-null  object \n",
            " 4   category               19466 non-null  object \n",
            " 5   amt                    19466 non-null  float64\n",
            " 6   first                  19466 non-null  object \n",
            " 7   last                   19466 non-null  object \n",
            " 8   gender                 19466 non-null  object \n",
            " 9   street                 19466 non-null  object \n",
            " 10  city                   19465 non-null  object \n",
            " 11  state                  19465 non-null  object \n",
            " 12  zip                    19465 non-null  float64\n",
            " 13  lat                    19465 non-null  float64\n",
            " 14  long                   19465 non-null  float64\n",
            " 15  city_pop               19465 non-null  float64\n",
            " 16  job                    19465 non-null  object \n",
            " 17  dob                    19465 non-null  object \n",
            " 18  trans_num              19465 non-null  object \n",
            " 19  unix_time              19465 non-null  float64\n",
            " 20  merch_lat              19465 non-null  float64\n",
            " 21  merch_long             19465 non-null  float64\n",
            " 22  is_fraud               19465 non-null  float64\n",
            "dtypes: float64(9), int64(2), object(12)\n",
            "memory usage: 3.4+ MB\n"
          ]
        }
      ]
    },
    {
      "cell_type": "code",
      "source": [
        "df.describe()"
      ],
      "metadata": {
        "colab": {
          "base_uri": "https://localhost:8080/",
          "height": 300
        },
        "id": "EGEMNvrRwvRe",
        "outputId": "085422bb-8c79-4cbf-d561-eb1c9b6532e0"
      },
      "id": "EGEMNvrRwvRe",
      "execution_count": 186,
      "outputs": [
        {
          "output_type": "execute_result",
          "data": {
            "text/plain": [
              "         Unnamed: 0        cc_num           amt           zip           lat  \\\n",
              "count  19466.000000  1.946600e+04  19466.000000  19465.000000  19465.000000   \n",
              "mean    9732.500000  4.180289e+17     68.799466  48491.198921     38.528486   \n",
              "std     5619.494506  1.310838e+18    139.379023  26813.873613      5.092329   \n",
              "min        0.000000  6.041621e+10      1.000000   1257.000000     20.027100   \n",
              "25%     4866.250000  1.800482e+14      9.482500  25526.000000     34.620500   \n",
              "50%     9732.500000  3.520550e+15     46.135000  48043.000000     39.371600   \n",
              "75%    14598.750000  4.634956e+15     81.777500  72011.000000     42.015800   \n",
              "max    19465.000000  4.992346e+18   6600.440000  99783.000000     65.689900   \n",
              "\n",
              "               long      city_pop     unix_time     merch_lat    merch_long  \\\n",
              "count  19465.000000  1.946500e+04  1.946500e+04  19465.000000  19465.000000   \n",
              "mean     -90.049245  9.049912e+04  1.372076e+09     38.521391    -90.049769   \n",
              "std       13.625865  3.093242e+05  1.759439e+05      5.130690     13.635438   \n",
              "min     -165.672300  2.300000e+01  1.371817e+09     19.163455   -166.464422   \n",
              "25%      -96.701000  7.600000e+02  1.371924e+09     34.714781    -96.739825   \n",
              "50%      -87.366700  2.470000e+03  1.372027e+09     39.388556    -87.322759   \n",
              "75%      -80.128400  2.047800e+04  1.372235e+09     41.997075    -80.161030   \n",
              "max      -67.950300  2.906700e+06  1.372405e+09     66.669356    -66.955602   \n",
              "\n",
              "           is_fraud  \n",
              "count  19465.000000  \n",
              "mean       0.003493  \n",
              "std        0.059004  \n",
              "min        0.000000  \n",
              "25%        0.000000  \n",
              "50%        0.000000  \n",
              "75%        0.000000  \n",
              "max        1.000000  "
            ],
            "text/html": [
              "\n",
              "\n",
              "  <div id=\"df-2709bf63-84ae-409d-a3c2-054fe114b03f\">\n",
              "    <div class=\"colab-df-container\">\n",
              "      <div>\n",
              "<style scoped>\n",
              "    .dataframe tbody tr th:only-of-type {\n",
              "        vertical-align: middle;\n",
              "    }\n",
              "\n",
              "    .dataframe tbody tr th {\n",
              "        vertical-align: top;\n",
              "    }\n",
              "\n",
              "    .dataframe thead th {\n",
              "        text-align: right;\n",
              "    }\n",
              "</style>\n",
              "<table border=\"1\" class=\"dataframe\">\n",
              "  <thead>\n",
              "    <tr style=\"text-align: right;\">\n",
              "      <th></th>\n",
              "      <th>Unnamed: 0</th>\n",
              "      <th>cc_num</th>\n",
              "      <th>amt</th>\n",
              "      <th>zip</th>\n",
              "      <th>lat</th>\n",
              "      <th>long</th>\n",
              "      <th>city_pop</th>\n",
              "      <th>unix_time</th>\n",
              "      <th>merch_lat</th>\n",
              "      <th>merch_long</th>\n",
              "      <th>is_fraud</th>\n",
              "    </tr>\n",
              "  </thead>\n",
              "  <tbody>\n",
              "    <tr>\n",
              "      <th>count</th>\n",
              "      <td>19466.000000</td>\n",
              "      <td>1.946600e+04</td>\n",
              "      <td>19466.000000</td>\n",
              "      <td>19465.000000</td>\n",
              "      <td>19465.000000</td>\n",
              "      <td>19465.000000</td>\n",
              "      <td>1.946500e+04</td>\n",
              "      <td>1.946500e+04</td>\n",
              "      <td>19465.000000</td>\n",
              "      <td>19465.000000</td>\n",
              "      <td>19465.000000</td>\n",
              "    </tr>\n",
              "    <tr>\n",
              "      <th>mean</th>\n",
              "      <td>9732.500000</td>\n",
              "      <td>4.180289e+17</td>\n",
              "      <td>68.799466</td>\n",
              "      <td>48491.198921</td>\n",
              "      <td>38.528486</td>\n",
              "      <td>-90.049245</td>\n",
              "      <td>9.049912e+04</td>\n",
              "      <td>1.372076e+09</td>\n",
              "      <td>38.521391</td>\n",
              "      <td>-90.049769</td>\n",
              "      <td>0.003493</td>\n",
              "    </tr>\n",
              "    <tr>\n",
              "      <th>std</th>\n",
              "      <td>5619.494506</td>\n",
              "      <td>1.310838e+18</td>\n",
              "      <td>139.379023</td>\n",
              "      <td>26813.873613</td>\n",
              "      <td>5.092329</td>\n",
              "      <td>13.625865</td>\n",
              "      <td>3.093242e+05</td>\n",
              "      <td>1.759439e+05</td>\n",
              "      <td>5.130690</td>\n",
              "      <td>13.635438</td>\n",
              "      <td>0.059004</td>\n",
              "    </tr>\n",
              "    <tr>\n",
              "      <th>min</th>\n",
              "      <td>0.000000</td>\n",
              "      <td>6.041621e+10</td>\n",
              "      <td>1.000000</td>\n",
              "      <td>1257.000000</td>\n",
              "      <td>20.027100</td>\n",
              "      <td>-165.672300</td>\n",
              "      <td>2.300000e+01</td>\n",
              "      <td>1.371817e+09</td>\n",
              "      <td>19.163455</td>\n",
              "      <td>-166.464422</td>\n",
              "      <td>0.000000</td>\n",
              "    </tr>\n",
              "    <tr>\n",
              "      <th>25%</th>\n",
              "      <td>4866.250000</td>\n",
              "      <td>1.800482e+14</td>\n",
              "      <td>9.482500</td>\n",
              "      <td>25526.000000</td>\n",
              "      <td>34.620500</td>\n",
              "      <td>-96.701000</td>\n",
              "      <td>7.600000e+02</td>\n",
              "      <td>1.371924e+09</td>\n",
              "      <td>34.714781</td>\n",
              "      <td>-96.739825</td>\n",
              "      <td>0.000000</td>\n",
              "    </tr>\n",
              "    <tr>\n",
              "      <th>50%</th>\n",
              "      <td>9732.500000</td>\n",
              "      <td>3.520550e+15</td>\n",
              "      <td>46.135000</td>\n",
              "      <td>48043.000000</td>\n",
              "      <td>39.371600</td>\n",
              "      <td>-87.366700</td>\n",
              "      <td>2.470000e+03</td>\n",
              "      <td>1.372027e+09</td>\n",
              "      <td>39.388556</td>\n",
              "      <td>-87.322759</td>\n",
              "      <td>0.000000</td>\n",
              "    </tr>\n",
              "    <tr>\n",
              "      <th>75%</th>\n",
              "      <td>14598.750000</td>\n",
              "      <td>4.634956e+15</td>\n",
              "      <td>81.777500</td>\n",
              "      <td>72011.000000</td>\n",
              "      <td>42.015800</td>\n",
              "      <td>-80.128400</td>\n",
              "      <td>2.047800e+04</td>\n",
              "      <td>1.372235e+09</td>\n",
              "      <td>41.997075</td>\n",
              "      <td>-80.161030</td>\n",
              "      <td>0.000000</td>\n",
              "    </tr>\n",
              "    <tr>\n",
              "      <th>max</th>\n",
              "      <td>19465.000000</td>\n",
              "      <td>4.992346e+18</td>\n",
              "      <td>6600.440000</td>\n",
              "      <td>99783.000000</td>\n",
              "      <td>65.689900</td>\n",
              "      <td>-67.950300</td>\n",
              "      <td>2.906700e+06</td>\n",
              "      <td>1.372405e+09</td>\n",
              "      <td>66.669356</td>\n",
              "      <td>-66.955602</td>\n",
              "      <td>1.000000</td>\n",
              "    </tr>\n",
              "  </tbody>\n",
              "</table>\n",
              "</div>\n",
              "      <button class=\"colab-df-convert\" onclick=\"convertToInteractive('df-2709bf63-84ae-409d-a3c2-054fe114b03f')\"\n",
              "              title=\"Convert this dataframe to an interactive table.\"\n",
              "              style=\"display:none;\">\n",
              "\n",
              "  <svg xmlns=\"http://www.w3.org/2000/svg\" height=\"24px\"viewBox=\"0 0 24 24\"\n",
              "       width=\"24px\">\n",
              "    <path d=\"M0 0h24v24H0V0z\" fill=\"none\"/>\n",
              "    <path d=\"M18.56 5.44l.94 2.06.94-2.06 2.06-.94-2.06-.94-.94-2.06-.94 2.06-2.06.94zm-11 1L8.5 8.5l.94-2.06 2.06-.94-2.06-.94L8.5 2.5l-.94 2.06-2.06.94zm10 10l.94 2.06.94-2.06 2.06-.94-2.06-.94-.94-2.06-.94 2.06-2.06.94z\"/><path d=\"M17.41 7.96l-1.37-1.37c-.4-.4-.92-.59-1.43-.59-.52 0-1.04.2-1.43.59L10.3 9.45l-7.72 7.72c-.78.78-.78 2.05 0 2.83L4 21.41c.39.39.9.59 1.41.59.51 0 1.02-.2 1.41-.59l7.78-7.78 2.81-2.81c.8-.78.8-2.07 0-2.86zM5.41 20L4 18.59l7.72-7.72 1.47 1.35L5.41 20z\"/>\n",
              "  </svg>\n",
              "      </button>\n",
              "\n",
              "\n",
              "\n",
              "    <div id=\"df-239303d7-2511-4544-980f-6412a18078e6\">\n",
              "      <button class=\"colab-df-quickchart\" onclick=\"quickchart('df-239303d7-2511-4544-980f-6412a18078e6')\"\n",
              "              title=\"Suggest charts.\"\n",
              "              style=\"display:none;\">\n",
              "\n",
              "<svg xmlns=\"http://www.w3.org/2000/svg\" height=\"24px\"viewBox=\"0 0 24 24\"\n",
              "     width=\"24px\">\n",
              "    <g>\n",
              "        <path d=\"M19 3H5c-1.1 0-2 .9-2 2v14c0 1.1.9 2 2 2h14c1.1 0 2-.9 2-2V5c0-1.1-.9-2-2-2zM9 17H7v-7h2v7zm4 0h-2V7h2v10zm4 0h-2v-4h2v4z\"/>\n",
              "    </g>\n",
              "</svg>\n",
              "      </button>\n",
              "    </div>\n",
              "\n",
              "<style>\n",
              "  .colab-df-quickchart {\n",
              "    background-color: #E8F0FE;\n",
              "    border: none;\n",
              "    border-radius: 50%;\n",
              "    cursor: pointer;\n",
              "    display: none;\n",
              "    fill: #1967D2;\n",
              "    height: 32px;\n",
              "    padding: 0 0 0 0;\n",
              "    width: 32px;\n",
              "  }\n",
              "\n",
              "  .colab-df-quickchart:hover {\n",
              "    background-color: #E2EBFA;\n",
              "    box-shadow: 0px 1px 2px rgba(60, 64, 67, 0.3), 0px 1px 3px 1px rgba(60, 64, 67, 0.15);\n",
              "    fill: #174EA6;\n",
              "  }\n",
              "\n",
              "  [theme=dark] .colab-df-quickchart {\n",
              "    background-color: #3B4455;\n",
              "    fill: #D2E3FC;\n",
              "  }\n",
              "\n",
              "  [theme=dark] .colab-df-quickchart:hover {\n",
              "    background-color: #434B5C;\n",
              "    box-shadow: 0px 1px 3px 1px rgba(0, 0, 0, 0.15);\n",
              "    filter: drop-shadow(0px 1px 2px rgba(0, 0, 0, 0.3));\n",
              "    fill: #FFFFFF;\n",
              "  }\n",
              "</style>\n",
              "\n",
              "    <script>\n",
              "      async function quickchart(key) {\n",
              "        const containerElement = document.querySelector('#' + key);\n",
              "        const charts = await google.colab.kernel.invokeFunction(\n",
              "            'suggestCharts', [key], {});\n",
              "      }\n",
              "    </script>\n",
              "\n",
              "      <script>\n",
              "\n",
              "function displayQuickchartButton(domScope) {\n",
              "  let quickchartButtonEl =\n",
              "    domScope.querySelector('#df-239303d7-2511-4544-980f-6412a18078e6 button.colab-df-quickchart');\n",
              "  quickchartButtonEl.style.display =\n",
              "    google.colab.kernel.accessAllowed ? 'block' : 'none';\n",
              "}\n",
              "\n",
              "        displayQuickchartButton(document);\n",
              "      </script>\n",
              "      <style>\n",
              "    .colab-df-container {\n",
              "      display:flex;\n",
              "      flex-wrap:wrap;\n",
              "      gap: 12px;\n",
              "    }\n",
              "\n",
              "    .colab-df-convert {\n",
              "      background-color: #E8F0FE;\n",
              "      border: none;\n",
              "      border-radius: 50%;\n",
              "      cursor: pointer;\n",
              "      display: none;\n",
              "      fill: #1967D2;\n",
              "      height: 32px;\n",
              "      padding: 0 0 0 0;\n",
              "      width: 32px;\n",
              "    }\n",
              "\n",
              "    .colab-df-convert:hover {\n",
              "      background-color: #E2EBFA;\n",
              "      box-shadow: 0px 1px 2px rgba(60, 64, 67, 0.3), 0px 1px 3px 1px rgba(60, 64, 67, 0.15);\n",
              "      fill: #174EA6;\n",
              "    }\n",
              "\n",
              "    [theme=dark] .colab-df-convert {\n",
              "      background-color: #3B4455;\n",
              "      fill: #D2E3FC;\n",
              "    }\n",
              "\n",
              "    [theme=dark] .colab-df-convert:hover {\n",
              "      background-color: #434B5C;\n",
              "      box-shadow: 0px 1px 3px 1px rgba(0, 0, 0, 0.15);\n",
              "      filter: drop-shadow(0px 1px 2px rgba(0, 0, 0, 0.3));\n",
              "      fill: #FFFFFF;\n",
              "    }\n",
              "  </style>\n",
              "\n",
              "      <script>\n",
              "        const buttonEl =\n",
              "          document.querySelector('#df-2709bf63-84ae-409d-a3c2-054fe114b03f button.colab-df-convert');\n",
              "        buttonEl.style.display =\n",
              "          google.colab.kernel.accessAllowed ? 'block' : 'none';\n",
              "\n",
              "        async function convertToInteractive(key) {\n",
              "          const element = document.querySelector('#df-2709bf63-84ae-409d-a3c2-054fe114b03f');\n",
              "          const dataTable =\n",
              "            await google.colab.kernel.invokeFunction('convertToInteractive',\n",
              "                                                     [key], {});\n",
              "          if (!dataTable) return;\n",
              "\n",
              "          const docLinkHtml = 'Like what you see? Visit the ' +\n",
              "            '<a target=\"_blank\" href=https://colab.research.google.com/notebooks/data_table.ipynb>data table notebook</a>'\n",
              "            + ' to learn more about interactive tables.';\n",
              "          element.innerHTML = '';\n",
              "          dataTable['output_type'] = 'display_data';\n",
              "          await google.colab.output.renderOutput(dataTable, element);\n",
              "          const docLink = document.createElement('div');\n",
              "          docLink.innerHTML = docLinkHtml;\n",
              "          element.appendChild(docLink);\n",
              "        }\n",
              "      </script>\n",
              "    </div>\n",
              "  </div>\n"
            ]
          },
          "metadata": {},
          "execution_count": 186
        }
      ]
    },
    {
      "cell_type": "code",
      "source": [
        "%matplotlib inline\n",
        "import matplotlib.pyplot as plt\n",
        "df.hist(bins=50,figsize=(20,15))"
      ],
      "metadata": {
        "colab": {
          "base_uri": "https://localhost:8080/",
          "height": 1000
        },
        "id": "NDZDP_iBxSWq",
        "outputId": "89f8f404-0a34-4259-d326-ebd62c0bd320"
      },
      "id": "NDZDP_iBxSWq",
      "execution_count": 187,
      "outputs": [
        {
          "output_type": "execute_result",
          "data": {
            "text/plain": [
              "array([[<Axes: title={'center': 'Unnamed: 0'}>,\n",
              "        <Axes: title={'center': 'cc_num'}>,\n",
              "        <Axes: title={'center': 'amt'}>],\n",
              "       [<Axes: title={'center': 'zip'}>, <Axes: title={'center': 'lat'}>,\n",
              "        <Axes: title={'center': 'long'}>],\n",
              "       [<Axes: title={'center': 'city_pop'}>,\n",
              "        <Axes: title={'center': 'unix_time'}>,\n",
              "        <Axes: title={'center': 'merch_lat'}>],\n",
              "       [<Axes: title={'center': 'merch_long'}>,\n",
              "        <Axes: title={'center': 'is_fraud'}>, <Axes: >]], dtype=object)"
            ]
          },
          "metadata": {},
          "execution_count": 187
        },
        {
          "output_type": "display_data",
          "data": {
            "text/plain": [
              "<Figure size 2000x1500 with 12 Axes>"
            ],
            "image/png": "[encoded data removed]"
          },
          "metadata": {}
        }
      ]
    },
    {
      "cell_type": "code",
      "source": [
        "import numpy as np\n",
        "def split_train_test(data,test_ratio):\n",
        "    np.random.seed(42)\n",
        "    shuffled=np.random.permutation(len(data))\n",
        "    print(shuffled)\n",
        "    test_set_size=int(len(data)*test_ratio)\n",
        "    test_indices=shuffled[:test_set_size]\n",
        "    train_indices=shuffled[test_set_size:]\n",
        "    return data.iloc[train_indices],data.iloc[test_indices]"
      ],
      "metadata": {
        "id": "3s3I-brKx_fD"
      },
      "id": "3s3I-brKx_fD",
      "execution_count": 188,
      "outputs": []
    },
    {
      "cell_type": "code",
      "source": [
        "from sklearn.model_selection import train_test_split\n",
        "train_set,test_set=train_test_split(df,test_size=0.2,random_state=42)\n",
        "print(f\"Rows in train set:{len(train_set)}\\nRows in test size:{len(test_set)}\\n\")"
      ],
      "metadata": {
        "colab": {
          "base_uri": "https://localhost:8080/"
        },
        "id": "okAOyunxySXX",
        "outputId": "e9d6bed0-3a70-44b2-f577-f49bc833e587"
      },
      "id": "okAOyunxySXX",
      "execution_count": 190,
      "outputs": [
        {
          "output_type": "stream",
          "name": "stdout",
          "text": [
            "Rows in train set:15572\n",
            "Rows in test size:3894\n",
            "\n"
          ]
        }
      ]
    },
    {
      "cell_type": "code",
      "source": [
        "corr_matrix=df.corr()"
      ],
      "metadata": {
        "colab": {
          "base_uri": "https://localhost:8080/"
        },
        "id": "1EZ7XN0kyhDv",
        "outputId": "63342dec-22cd-4012-e45c-6bfa0c6e9ce3"
      },
      "id": "1EZ7XN0kyhDv",
      "execution_count": 191,
      "outputs": [
        {
          "output_type": "stream",
          "name": "stderr",
          "text": [
            "<ipython-input-191-a4bfebfd3231>:1: FutureWarning: The default value of numeric_only in DataFrame.corr is deprecated. In a future version, it will default to False. Select only valid columns or specify the value of numeric_only to silence this warning.\n",
            "  corr_matrix=df.corr()\n"
          ]
        }
      ]
    },
    {
      "cell_type": "code",
      "source": [
        "corr_matrix['amt'].sort_values(ascending =False)"
      ],
      "metadata": {
        "colab": {
          "base_uri": "https://localhost:8080/"
        },
        "id": "m3pcsfEt1cjF",
        "outputId": "ebcddc4e-5233-483e-ef15-c390019394de"
      },
      "id": "m3pcsfEt1cjF",
      "execution_count": 192,
      "outputs": [
        {
          "output_type": "execute_result",
          "data": {
            "text/plain": [
              "amt           1.000000\n",
              "is_fraud      0.206292\n",
              "long          0.015063\n",
              "unix_time     0.014914\n",
              "merch_long    0.014811\n",
              "cc_num        0.014478\n",
              "Unnamed: 0    0.013014\n",
              "merch_lat     0.003859\n",
              "lat           0.003397\n",
              "city_pop     -0.003272\n",
              "zip          -0.013685\n",
              "Name: amt, dtype: float64"
            ]
          },
          "metadata": {},
          "execution_count": 192
        }
      ]
    },
    {
      "cell_type": "code",
      "source": [
        "from pandas.plotting import scatter_matrix\n",
        "attributes=[\"amt\",\"cc_num\",\"lat\",\"long\"]\n",
        "scatter_matrix(df[attributes],figsize=(12,8))"
      ],
      "metadata": {
        "colab": {
          "base_uri": "https://localhost:8080/",
          "height": 990
        },
        "id": "u8DFmlBb1oKH",
        "outputId": "f81339e1-6142-4b3f-b48b-fb7aa2ece15e"
      },
      "id": "u8DFmlBb1oKH",
      "execution_count": 193,
      "outputs": [
        {
          "output_type": "execute_result",
          "data": {
            "text/plain": [
              "array([[<Axes: xlabel='amt', ylabel='amt'>,\n",
              "        <Axes: xlabel='cc_num', ylabel='amt'>,\n",
              "        <Axes: xlabel='lat', ylabel='amt'>,\n",
              "        <Axes: xlabel='long', ylabel='amt'>],\n",
              "       [<Axes: xlabel='amt', ylabel='cc_num'>,\n",
              "        <Axes: xlabel='cc_num', ylabel='cc_num'>,\n",
              "        <Axes: xlabel='lat', ylabel='cc_num'>,\n",
              "        <Axes: xlabel='long', ylabel='cc_num'>],\n",
              "       [<Axes: xlabel='amt', ylabel='lat'>,\n",
              "        <Axes: xlabel='cc_num', ylabel='lat'>,\n",
              "        <Axes: xlabel='lat', ylabel='lat'>,\n",
              "        <Axes: xlabel='long', ylabel='lat'>],\n",
              "       [<Axes: xlabel='amt', ylabel='long'>,\n",
              "        <Axes: xlabel='cc_num', ylabel='long'>,\n",
              "        <Axes: xlabel='lat', ylabel='long'>,\n",
              "        <Axes: xlabel='long', ylabel='long'>]], dtype=object)"
            ]
          },
          "metadata": {},
          "execution_count": 193
        },
        {
          "output_type": "display_data",
          "data": {
            "text/plain": [
              "<Figure size 1200x800 with 16 Axes>"
            ],
            "image/png": "[encoded data removed]"
          },
          "metadata": {}
        }
      ]
    },
    {
      "cell_type": "code",
      "source": [
        "df.plot(kind=\"scatter\",x=\"amt\",y=\"cc_num\",alpha=0.8)"
      ],
      "metadata": {
        "colab": {
          "base_uri": "https://localhost:8080/",
          "height": 482
        },
        "id": "k10cDBsm17Lo",
        "outputId": "7373f4c4-15a8-44be-b1d1-46e10946cf5d"
      },
      "id": "k10cDBsm17Lo",
      "execution_count": 194,
      "outputs": [
        {
          "output_type": "execute_result",
          "data": {
            "text/plain": [
              "<Axes: xlabel='amt', ylabel='cc_num'>"
            ]
          },
          "metadata": {},
          "execution_count": 194
        },
        {
          "output_type": "display_data",
          "data": {
            "text/plain": [
              "<Figure size 640x480 with 1 Axes>"
            ],
            "image/png": "[encoded data removed]"
          },
          "metadata": {}
        }
      ]
    },
    {
      "cell_type": "code",
      "source": [
        "df[\"cc_numamt\"]=df[\"cc_num\"]/df[\"amt\"]"
      ],
      "metadata": {
        "id": "bE7HIuYY2Rbf"
      },
      "id": "bE7HIuYY2Rbf",
      "execution_count": 195,
      "outputs": []
    },
    {
      "cell_type": "code",
      "source": [
        "df.head()"
      ],
      "metadata": {
        "colab": {
          "base_uri": "https://localhost:8080/",
          "height": 525
        },
        "id": "nkmxH-l72lqL",
        "outputId": "2301c8f7-65f3-45f5-d133-3a1d2b60037d"
      },
      "id": "nkmxH-l72lqL",
      "execution_count": 196,
      "outputs": [
        {
          "output_type": "execute_result",
          "data": {
            "text/plain": [
              "   Unnamed: 0 trans_date_trans_time            cc_num  \\\n",
              "0           0   2020-06-21 12:14:25  2291163933867244   \n",
              "1           1   2020-06-21 12:14:33  3573030041201292   \n",
              "2           2   2020-06-21 12:14:53  3598215285024754   \n",
              "3           3   2020-06-21 12:15:15  3591919803438423   \n",
              "4           4   2020-06-21 12:15:17  3526826139003047   \n",
              "\n",
              "                               merchant        category    amt   first  \\\n",
              "0                 fraud_Kirlin and Sons   personal_care   2.86    Jeff   \n",
              "1                  fraud_Sporer-Keebler   personal_care  29.84  Joanne   \n",
              "2  fraud_Swaniawski, Nitzsche and Welch  health_fitness  41.28  Ashley   \n",
              "3                     fraud_Haley Group        misc_pos  60.05   Brian   \n",
              "4                 fraud_Johnston-Casper          travel   3.19  Nathan   \n",
              "\n",
              "       last gender                       street  ...      long  city_pop  \\\n",
              "0   Elliott      M            351 Darlene Green  ...  -80.9355  333497.0   \n",
              "1  Williams      F             3638 Marsh Union  ... -110.4360     302.0   \n",
              "2     Lopez      F         9333 Valentine Point  ...  -73.5365   34496.0   \n",
              "3  Williams      M  32941 Krystal Mill Apt. 552  ...  -80.8191   54767.0   \n",
              "4    Massey      M     5783 Evan Roads Apt. 465  ...  -85.0170    1126.0   \n",
              "\n",
              "                      job         dob                         trans_num  \\\n",
              "0     Mechanical engineer  1968-03-19  2da90c7d74bd46a0caf3777415b3ebd3   \n",
              "1  Sales professional, IT  1990-01-17  324cc204407e99f51b0d6ca0055005e7   \n",
              "2       Librarian, public  1970-10-21  c81755dbbbea9d5c77f094348a7579be   \n",
              "3            Set designer  1987-07-25  2159175b9efe66dc301f149d3d5abf8c   \n",
              "4      Furniture designer  1955-07-06  57ff021bd3f328f8738bb535c302a31b   \n",
              "\n",
              "      unix_time  merch_lat  merch_long is_fraud     cc_numamt  \n",
              "0  1.371817e+09  33.986391  -81.200714      0.0  8.011063e+14  \n",
              "1  1.371817e+09  39.450498 -109.960431      0.0  1.197396e+14  \n",
              "2  1.371817e+09  40.495810  -74.196111      0.0  8.716607e+13  \n",
              "3  1.371817e+09  28.812398  -80.883061      0.0  5.981548e+13  \n",
              "4  1.371817e+09  44.959148  -85.884734      0.0  1.105588e+15  \n",
              "\n",
              "[5 rows x 24 columns]"
            ],
            "text/html": [
              "\n",
              "\n",
              "  <div id=\"df-c641ced4-5a3d-4164-9c3f-d4c07035c490\">\n",
              "    <div class=\"colab-df-container\">\n",
              "      <div>\n",
              "<style scoped>\n",
              "    .dataframe tbody tr th:only-of-type {\n",
              "        vertical-align: middle;\n",
              "    }\n",
              "\n",
              "    .dataframe tbody tr th {\n",
              "        vertical-align: top;\n",
              "    }\n",
              "\n",
              "    .dataframe thead th {\n",
              "        text-align: right;\n",
              "    }\n",
              "</style>\n",
              "<table border=\"1\" class=\"dataframe\">\n",
              "  <thead>\n",
              "    <tr style=\"text-align: right;\">\n",
              "      <th></th>\n",
              "      <th>Unnamed: 0</th>\n",
              "      <th>trans_date_trans_time</th>\n",
              "      <th>cc_num</th>\n",
              "      <th>merchant</th>\n",
              "      <th>category</th>\n",
              "      <th>amt</th>\n",
              "      <th>first</th>\n",
              "      <th>last</th>\n",
              "      <th>gender</th>\n",
              "      <th>street</th>\n",
              "      <th>...</th>\n",
              "      <th>long</th>\n",
              "      <th>city_pop</th>\n",
              "      <th>job</th>\n",
              "      <th>dob</th>\n",
              "      <th>trans_num</th>\n",
              "      <th>unix_time</th>\n",
              "      <th>merch_lat</th>\n",
              "      <th>merch_long</th>\n",
              "      <th>is_fraud</th>\n",
              "      <th>cc_numamt</th>\n",
              "    </tr>\n",
              "  </thead>\n",
              "  <tbody>\n",
              "    <tr>\n",
              "      <th>0</th>\n",
              "      <td>0</td>\n",
              "      <td>2020-06-21 12:14:25</td>\n",
              "      <td>2291163933867244</td>\n",
              "      <td>fraud_Kirlin and Sons</td>\n",
              "      <td>personal_care</td>\n",
              "      <td>2.86</td>\n",
              "      <td>Jeff</td>\n",
              "      <td>Elliott</td>\n",
              "      <td>M</td>\n",
              "      <td>351 Darlene Green</td>\n",
              "      <td>...</td>\n",
              "      <td>-80.9355</td>\n",
              "      <td>333497.0</td>\n",
              "      <td>Mechanical engineer</td>\n",
              "      <td>1968-03-19</td>\n",
              "      <td>2da90c7d74bd46a0caf3777415b3ebd3</td>\n",
              "      <td>1.371817e+09</td>\n",
              "      <td>33.986391</td>\n",
              "      <td>-81.200714</td>\n",
              "      <td>0.0</td>\n",
              "      <td>8.011063e+14</td>\n",
              "    </tr>\n",
              "    <tr>\n",
              "      <th>1</th>\n",
              "      <td>1</td>\n",
              "      <td>2020-06-21 12:14:33</td>\n",
              "      <td>3573030041201292</td>\n",
              "      <td>fraud_Sporer-Keebler</td>\n",
              "      <td>personal_care</td>\n",
              "      <td>29.84</td>\n",
              "      <td>Joanne</td>\n",
              "      <td>Williams</td>\n",
              "      <td>F</td>\n",
              "      <td>3638 Marsh Union</td>\n",
              "      <td>...</td>\n",
              "      <td>-110.4360</td>\n",
              "      <td>302.0</td>\n",
              "      <td>Sales professional, IT</td>\n",
              "      <td>1990-01-17</td>\n",
              "      <td>324cc204407e99f51b0d6ca0055005e7</td>\n",
              "      <td>1.371817e+09</td>\n",
              "      <td>39.450498</td>\n",
              "      <td>-109.960431</td>\n",
              "      <td>0.0</td>\n",
              "      <td>1.197396e+14</td>\n",
              "    </tr>\n",
              "    <tr>\n",
              "      <th>2</th>\n",
              "      <td>2</td>\n",
              "      <td>2020-06-21 12:14:53</td>\n",
              "      <td>3598215285024754</td>\n",
              "      <td>fraud_Swaniawski, Nitzsche and Welch</td>\n",
              "      <td>health_fitness</td>\n",
              "      <td>41.28</td>\n",
              "      <td>Ashley</td>\n",
              "      <td>Lopez</td>\n",
              "      <td>F</td>\n",
              "      <td>9333 Valentine Point</td>\n",
              "      <td>...</td>\n",
              "      <td>-73.5365</td>\n",
              "      <td>34496.0</td>\n",
              "      <td>Librarian, public</td>\n",
              "      <td>1970-10-21</td>\n",
              "      <td>c81755dbbbea9d5c77f094348a7579be</td>\n",
              "      <td>1.371817e+09</td>\n",
              "      <td>40.495810</td>\n",
              "      <td>-74.196111</td>\n",
              "      <td>0.0</td>\n",
              "      <td>8.716607e+13</td>\n",
              "    </tr>\n",
              "    <tr>\n",
              "      <th>3</th>\n",
              "      <td>3</td>\n",
              "      <td>2020-06-21 12:15:15</td>\n",
              "      <td>3591919803438423</td>\n",
              "      <td>fraud_Haley Group</td>\n",
              "      <td>misc_pos</td>\n",
              "      <td>60.05</td>\n",
              "      <td>Brian</td>\n",
              "      <td>Williams</td>\n",
              "      <td>M</td>\n",
              "      <td>32941 Krystal Mill Apt. 552</td>\n",
              "      <td>...</td>\n",
              "      <td>-80.8191</td>\n",
              "      <td>54767.0</td>\n",
              "      <td>Set designer</td>\n",
              "      <td>1987-07-25</td>\n",
              "      <td>2159175b9efe66dc301f149d3d5abf8c</td>\n",
              "      <td>1.371817e+09</td>\n",
              "      <td>28.812398</td>\n",
              "      <td>-80.883061</td>\n",
              "      <td>0.0</td>\n",
              "      <td>5.981548e+13</td>\n",
              "    </tr>\n",
              "    <tr>\n",
              "      <th>4</th>\n",
              "      <td>4</td>\n",
              "      <td>2020-06-21 12:15:17</td>\n",
              "      <td>3526826139003047</td>\n",
              "      <td>fraud_Johnston-Casper</td>\n",
              "      <td>travel</td>\n",
              "      <td>3.19</td>\n",
              "      <td>Nathan</td>\n",
              "      <td>Massey</td>\n",
              "      <td>M</td>\n",
              "      <td>5783 Evan Roads Apt. 465</td>\n",
              "      <td>...</td>\n",
              "      <td>-85.0170</td>\n",
              "      <td>1126.0</td>\n",
              "      <td>Furniture designer</td>\n",
              "      <td>1955-07-06</td>\n",
              "      <td>57ff021bd3f328f8738bb535c302a31b</td>\n",
              "      <td>1.371817e+09</td>\n",
              "      <td>44.959148</td>\n",
              "      <td>-85.884734</td>\n",
              "      <td>0.0</td>\n",
              "      <td>1.105588e+15</td>\n",
              "    </tr>\n",
              "  </tbody>\n",
              "</table>\n",
              "<p>5 rows × 24 columns</p>\n",
              "</div>\n",
              "      <button class=\"colab-df-convert\" onclick=\"convertToInteractive('df-c641ced4-5a3d-4164-9c3f-d4c07035c490')\"\n",
              "              title=\"Convert this dataframe to an interactive table.\"\n",
              "              style=\"display:none;\">\n",
              "\n",
              "  <svg xmlns=\"http://www.w3.org/2000/svg\" height=\"24px\"viewBox=\"0 0 24 24\"\n",
              "       width=\"24px\">\n",
              "    <path d=\"M0 0h24v24H0V0z\" fill=\"none\"/>\n",
              "    <path d=\"M18.56 5.44l.94 2.06.94-2.06 2.06-.94-2.06-.94-.94-2.06-.94 2.06-2.06.94zm-11 1L8.5 8.5l.94-2.06 2.06-.94-2.06-.94L8.5 2.5l-.94 2.06-2.06.94zm10 10l.94 2.06.94-2.06 2.06-.94-2.06-.94-.94-2.06-.94 2.06-2.06.94z\"/><path d=\"M17.41 7.96l-1.37-1.37c-.4-.4-.92-.59-1.43-.59-.52 0-1.04.2-1.43.59L10.3 9.45l-7.72 7.72c-.78.78-.78 2.05 0 2.83L4 21.41c.39.39.9.59 1.41.59.51 0 1.02-.2 1.41-.59l7.78-7.78 2.81-2.81c.8-.78.8-2.07 0-2.86zM5.41 20L4 18.59l7.72-7.72 1.47 1.35L5.41 20z\"/>\n",
              "  </svg>\n",
              "      </button>\n",
              "\n",
              "\n",
              "\n",
              "    <div id=\"df-be2865bb-a814-4a92-aac1-a594cd43b823\">\n",
              "      <button class=\"colab-df-quickchart\" onclick=\"quickchart('df-be2865bb-a814-4a92-aac1-a594cd43b823')\"\n",
              "              title=\"Suggest charts.\"\n",
              "              style=\"display:none;\">\n",
              "\n",
              "<svg xmlns=\"http://www.w3.org/2000/svg\" height=\"24px\"viewBox=\"0 0 24 24\"\n",
              "     width=\"24px\">\n",
              "    <g>\n",
              "        <path d=\"M19 3H5c-1.1 0-2 .9-2 2v14c0 1.1.9 2 2 2h14c1.1 0 2-.9 2-2V5c0-1.1-.9-2-2-2zM9 17H7v-7h2v7zm4 0h-2V7h2v10zm4 0h-2v-4h2v4z\"/>\n",
              "    </g>\n",
              "</svg>\n",
              "      </button>\n",
              "    </div>\n",
              "\n",
              "<style>\n",
              "  .colab-df-quickchart {\n",
              "    background-color: #E8F0FE;\n",
              "    border: none;\n",
              "    border-radius: 50%;\n",
              "    cursor: pointer;\n",
              "    display: none;\n",
              "    fill: #1967D2;\n",
              "    height: 32px;\n",
              "    padding: 0 0 0 0;\n",
              "    width: 32px;\n",
              "  }\n",
              "\n",
              "  .colab-df-quickchart:hover {\n",
              "    background-color: #E2EBFA;\n",
              "    box-shadow: 0px 1px 2px rgba(60, 64, 67, 0.3), 0px 1px 3px 1px rgba(60, 64, 67, 0.15);\n",
              "    fill: #174EA6;\n",
              "  }\n",
              "\n",
              "  [theme=dark] .colab-df-quickchart {\n",
              "    background-color: #3B4455;\n",
              "    fill: #D2E3FC;\n",
              "  }\n",
              "\n",
              "  [theme=dark] .colab-df-quickchart:hover {\n",
              "    background-color: #434B5C;\n",
              "    box-shadow: 0px 1px 3px 1px rgba(0, 0, 0, 0.15);\n",
              "    filter: drop-shadow(0px 1px 2px rgba(0, 0, 0, 0.3));\n",
              "    fill: #FFFFFF;\n",
              "  }\n",
              "</style>\n",
              "\n",
              "    <script>\n",
              "      async function quickchart(key) {\n",
              "        const containerElement = document.querySelector('#' + key);\n",
              "        const charts = await google.colab.kernel.invokeFunction(\n",
              "            'suggestCharts', [key], {});\n",
              "      }\n",
              "    </script>\n",
              "\n",
              "      <script>\n",
              "\n",
              "function displayQuickchartButton(domScope) {\n",
              "  let quickchartButtonEl =\n",
              "    domScope.querySelector('#df-be2865bb-a814-4a92-aac1-a594cd43b823 button.colab-df-quickchart');\n",
              "  quickchartButtonEl.style.display =\n",
              "    google.colab.kernel.accessAllowed ? 'block' : 'none';\n",
              "}\n",
              "\n",
              "        displayQuickchartButton(document);\n",
              "      </script>\n",
              "      <style>\n",
              "    .colab-df-container {\n",
              "      display:flex;\n",
              "      flex-wrap:wrap;\n",
              "      gap: 12px;\n",
              "    }\n",
              "\n",
              "    .colab-df-convert {\n",
              "      background-color: #E8F0FE;\n",
              "      border: none;\n",
              "      border-radius: 50%;\n",
              "      cursor: pointer;\n",
              "      display: none;\n",
              "      fill: #1967D2;\n",
              "      height: 32px;\n",
              "      padding: 0 0 0 0;\n",
              "      width: 32px;\n",
              "    }\n",
              "\n",
              "    .colab-df-convert:hover {\n",
              "      background-color: #E2EBFA;\n",
              "      box-shadow: 0px 1px 2px rgba(60, 64, 67, 0.3), 0px 1px 3px 1px rgba(60, 64, 67, 0.15);\n",
              "      fill: #174EA6;\n",
              "    }\n",
              "\n",
              "    [theme=dark] .colab-df-convert {\n",
              "      background-color: #3B4455;\n",
              "      fill: #D2E3FC;\n",
              "    }\n",
              "\n",
              "    [theme=dark] .colab-df-convert:hover {\n",
              "      background-color: #434B5C;\n",
              "      box-shadow: 0px 1px 3px 1px rgba(0, 0, 0, 0.15);\n",
              "      filter: drop-shadow(0px 1px 2px rgba(0, 0, 0, 0.3));\n",
              "      fill: #FFFFFF;\n",
              "    }\n",
              "  </style>\n",
              "\n",
              "      <script>\n",
              "        const buttonEl =\n",
              "          document.querySelector('#df-c641ced4-5a3d-4164-9c3f-d4c07035c490 button.colab-df-convert');\n",
              "        buttonEl.style.display =\n",
              "          google.colab.kernel.accessAllowed ? 'block' : 'none';\n",
              "\n",
              "        async function convertToInteractive(key) {\n",
              "          const element = document.querySelector('#df-c641ced4-5a3d-4164-9c3f-d4c07035c490');\n",
              "          const dataTable =\n",
              "            await google.colab.kernel.invokeFunction('convertToInteractive',\n",
              "                                                     [key], {});\n",
              "          if (!dataTable) return;\n",
              "\n",
              "          const docLinkHtml = 'Like what you see? Visit the ' +\n",
              "            '<a target=\"_blank\" href=https://colab.research.google.com/notebooks/data_table.ipynb>data table notebook</a>'\n",
              "            + ' to learn more about interactive tables.';\n",
              "          element.innerHTML = '';\n",
              "          dataTable['output_type'] = 'display_data';\n",
              "          await google.colab.output.renderOutput(dataTable, element);\n",
              "          const docLink = document.createElement('div');\n",
              "          docLink.innerHTML = docLinkHtml;\n",
              "          element.appendChild(docLink);\n",
              "        }\n",
              "      </script>\n",
              "    </div>\n",
              "  </div>\n"
            ]
          },
          "metadata": {},
          "execution_count": 196
        }
      ]
    },
    {
      "cell_type": "code",
      "source": [
        "corr_matrix=df.corr()\n",
        "corr_matrix['lat'].sort_values(ascending=False)"
      ],
      "metadata": {
        "colab": {
          "base_uri": "https://localhost:8080/"
        },
        "id": "v7tzaJw52rLz",
        "outputId": "34af3d03-2873-443b-b493-e31ffaf84056"
      },
      "id": "v7tzaJw52rLz",
      "execution_count": 197,
      "outputs": [
        {
          "output_type": "stream",
          "name": "stderr",
          "text": [
            "<ipython-input-197-41db62c644a6>:1: FutureWarning: The default value of numeric_only in DataFrame.corr is deprecated. In a future version, it will default to False. Select only valid columns or specify the value of numeric_only to silence this warning.\n",
            "  corr_matrix=df.corr()\n"
          ]
        },
        {
          "output_type": "execute_result",
          "data": {
            "text/plain": [
              "lat           1.000000\n",
              "merch_lat     0.993689\n",
              "Unnamed: 0    0.013412\n",
              "unix_time     0.012714\n",
              "amt           0.003397\n",
              "merch_long   -0.001459\n",
              "long         -0.001856\n",
              "is_fraud     -0.007660\n",
              "cc_numamt    -0.042471\n",
              "cc_num       -0.073113\n",
              "zip          -0.124188\n",
              "city_pop     -0.146246\n",
              "Name: lat, dtype: float64"
            ]
          },
          "metadata": {},
          "execution_count": 197
        }
      ]
    },
    {
      "cell_type": "code",
      "source": [
        "df['amt'].value_counts()"
      ],
      "metadata": {
        "colab": {
          "base_uri": "https://localhost:8080/"
        },
        "id": "LNsqNR_va7Ch",
        "outputId": "23e3092d-2c5c-44e6-a892-125919f9452a"
      },
      "id": "LNsqNR_va7Ch",
      "execution_count": 198,
      "outputs": [
        {
          "output_type": "execute_result",
          "data": {
            "text/plain": [
              "5.48      15\n",
              "1.93      14\n",
              "2.34      14\n",
              "2.33      13\n",
              "6.82      13\n",
              "          ..\n",
              "32.32      1\n",
              "161.46     1\n",
              "55.98      1\n",
              "55.75      1\n",
              "74.54      1\n",
              "Name: amt, Length: 10139, dtype: int64"
            ]
          },
          "metadata": {},
          "execution_count": 198
        }
      ]
    },
    {
      "cell_type": "code",
      "source": [
        "legit = df[df.amt== 0]\n",
        "fraud = df[df.amt == 1]"
      ],
      "metadata": {
        "id": "g4RdIa1zaaWT"
      },
      "id": "g4RdIa1zaaWT",
      "execution_count": 199,
      "outputs": []
    },
    {
      "cell_type": "code",
      "source": [
        "print(legit.shape)\n",
        "print(fraud.shape)"
      ],
      "metadata": {
        "colab": {
          "base_uri": "https://localhost:8080/"
        },
        "id": "Se0RjY87a16a",
        "outputId": "46abdcc2-1544-4d2f-83d1-cda4d0c84890"
      },
      "id": "Se0RjY87a16a",
      "execution_count": 200,
      "outputs": [
        {
          "output_type": "stream",
          "name": "stdout",
          "text": [
            "(0, 24)\n",
            "(3, 24)\n"
          ]
        }
      ]
    },
    {
      "cell_type": "code",
      "source": [
        "df.plot(kind=\"scatter\",x=\"cc_numamt\",y=\"lat\",alpha=0.8)"
      ],
      "metadata": {
        "colab": {
          "base_uri": "https://localhost:8080/",
          "height": 466
        },
        "id": "IvuW15GU27RN",
        "outputId": "e02d712a-0c12-474b-9aec-01f1eaa2f182"
      },
      "id": "IvuW15GU27RN",
      "execution_count": 201,
      "outputs": [
        {
          "output_type": "execute_result",
          "data": {
            "text/plain": [
              "<Axes: xlabel='cc_numamt', ylabel='lat'>"
            ]
          },
          "metadata": {},
          "execution_count": 201
        },
        {
          "output_type": "display_data",
          "data": {
            "text/plain": [
              "<Figure size 640x480 with 1 Axes>"
            ],
            "image/png": "[encoded data removed]"
          },
          "metadata": {}
        }
      ]
    },
    {
      "cell_type": "code",
      "source": [
        "import pandas as pd\n",
        "import numpy as np\n",
        "import matplotlib.pyplot as plt\n",
        "df = pd.read_csv(\"/fraudTest (2).csv\",encoding='ISO-8859-1')"
      ],
      "metadata": {
        "id": "-kq9Thst3tRO"
      },
      "id": "-kq9Thst3tRO",
      "execution_count": 202,
      "outputs": []
    },
    {
      "cell_type": "code",
      "source": [
        "df= df.tail(10)\n",
        "x=df[\"lat\"]\n",
        "y=df[\"amt\"]\n",
        "plt.bar(x,y, color=[\"red\",\"yellow\"],width=0.4)\n",
        "plt.xlabel(\"lat\")\n",
        "plt.ylabel(\"amt\")\n",
        "plt.show()"
      ],
      "metadata": {
        "colab": {
          "base_uri": "https://localhost:8080/",
          "height": 449
        },
        "id": "lNz-LbQK39k1",
        "outputId": "c1456969-789f-4457-e684-28cd0af1eb1c"
      },
      "id": "lNz-LbQK39k1",
      "execution_count": 203,
      "outputs": [
        {
          "output_type": "display_data",
          "data": {
            "text/plain": [
              "<Figure size 640x480 with 1 Axes>"
            ],
            "image/png": "[encoded data removed]"
          },
          "metadata": {}
        }
      ]
    },
    {
      "cell_type": "code",
      "source": [
        "df= df.tail(10)\n",
        "x=df[\"long\"]\n",
        "y=df[\"amt\"]\n",
        "plt.bar(x,y, color=[\"red\",\"yellow\"],width=0.4)\n",
        "plt.xlabel(\"long\")\n",
        "plt.ylabel(\"amt\")\n",
        "plt.show()"
      ],
      "metadata": {
        "colab": {
          "base_uri": "https://localhost:8080/",
          "height": 449
        },
        "id": "_S34lw734L91",
        "outputId": "00783e45-b298-4eff-98e3-ce0ecf7d2a4e"
      },
      "id": "_S34lw734L91",
      "execution_count": 204,
      "outputs": [
        {
          "output_type": "display_data",
          "data": {
            "text/plain": [
              "<Figure size 640x480 with 1 Axes>"
            ],
            "image/png": "[encoded data removed]"
          },
          "metadata": {}
        }
      ]
    },
    {
      "cell_type": "code",
      "source": [
        "import pandas as pd\n",
        "import matplotlib.pyplot as plt\n",
        "from mpl_toolkits.mplot3d import Axes3D\n",
        "df=pd.read_csv(\"/fraudTest (2).csv\")\n",
        "x=df[\"amt\"]\n",
        "y=df[\"lat\"]\n",
        "z=df[\"long\"]\n",
        "f=plt.figure()\n",
        "a=f.add_subplot(111, projection=\"3d\")\n",
        "a.scatter(x,y,z, color=\"purple\")\n",
        "a.set_xlabel(\"amt\")\n",
        "a.set_ylabel(\"lat\")\n",
        "a.set_zlabel(\"long\")\n",
        "plt.show()"
      ],
      "metadata": {
        "colab": {
          "base_uri": "https://localhost:8080/",
          "height": 410
        },
        "id": "iUHkOwUA5OlW",
        "outputId": "76d19c6d-46c6-44e9-9931-2d41bc940c09"
      },
      "id": "iUHkOwUA5OlW",
      "execution_count": 205,
      "outputs": [
        {
          "output_type": "display_data",
          "data": {
            "text/plain": [
              "<Figure size 640x480 with 1 Axes>"
            ],
            "image/png": "[encoded data removed]"
          },
          "metadata": {}
        }
      ]
    },
    {
      "cell_type": "code",
      "source": [
        "import pandas as pd\n",
        "import seaborn as sns\n",
        "housing=pd.read_csv(\"/fraudTest (2).csv\")\n",
        "x=(\"amt\")\n",
        "y=(\"lat\")\n",
        "x_data=housing[x]\n",
        "y_data=housing[y]\n",
        "sns.regplot(x=x_data, y=y_data, color=\"blue\")\n",
        "plt.title(\"\")\n",
        "plt.xlabel(\"amt\")\n",
        "plt.ylabel(\"lat\")\n",
        "plt.show()"
      ],
      "metadata": {
        "colab": {
          "base_uri": "https://localhost:8080/",
          "height": 449
        },
        "id": "D_61uvzU53qS",
        "outputId": "546a18ba-cb05-42c5-954e-31e417483151"
      },
      "id": "D_61uvzU53qS",
      "execution_count": 206,
      "outputs": [
        {
          "output_type": "display_data",
          "data": {
            "text/plain": [
              "<Figure size 640x480 with 1 Axes>"
            ],
            "image/png": "[encoded data removed]"
          },
          "metadata": {}
        }
      ]
    },
    {
      "cell_type": "code",
      "source": [
        "import pandas as pd\n",
        "import seaborn as sns\n",
        "import matplotlib.pyplot as plt\n",
        "df=pd.read_csv(\"/fraudTest (2).csv\")\n",
        "cols=[\"cc_num\",\"amt\",\"lat\"]\n",
        "corr_matrix=df[cols].corr()\n",
        "sns.heatmap(corr_matrix,annot=True)\n",
        "plt.show()"
      ],
      "metadata": {
        "colab": {
          "base_uri": "https://localhost:8080/",
          "height": 435
        },
        "id": "scpKDuVv8opO",
        "outputId": "15ee5553-eac7-4641-eb83-b93aa2a8bb7a"
      },
      "id": "scpKDuVv8opO",
      "execution_count": 207,
      "outputs": [
        {
          "output_type": "display_data",
          "data": {
            "text/plain": [
              "<Figure size 640x480 with 2 Axes>"
            ],
            "image/png": "[encoded data removed]"
          },
          "metadata": {}
        }
      ]
    },
    {
      "cell_type": "code",
      "source": [
        "from sklearn.neighbors import LocalOutlierFactor"
      ],
      "metadata": {
        "id": "rfY1wzCT9Ho7"
      },
      "id": "rfY1wzCT9Ho7",
      "execution_count": 208,
      "outputs": []
    },
    {
      "cell_type": "code",
      "source": [
        "from sklearn.preprocessing import StandardScaler\n",
        "from sklearn.model_selection import train_test_split, GridSearchCV\n",
        "from sklearn.svm import SVC\n",
        "from sklearn.ensemble import RandomForestClassifier\n",
        "from sklearn.linear_model import LogisticRegression\n",
        "from sklearn.neighbors import KNeighborsClassifier\n",
        "from sklearn.ensemble import IsolationForest\n",
        "from sklearn.naive_bayes import GaussianNB\n",
        "from sklearn.metrics import accuracy_score"
      ],
      "metadata": {
        "id": "yj5aAtLABNwz"
      },
      "id": "yj5aAtLABNwz",
      "execution_count": 245,
      "outputs": []
    },
    {
      "cell_type": "code",
      "source": [
        "x_train, x_test, y_train, y_test = train_test_split(x,y,test_size=0.2,random_state=42)"
      ],
      "metadata": {
        "id": "FMaJNRh8DyYa"
      },
      "id": "FMaJNRh8DyYa",
      "execution_count": 210,
      "outputs": []
    },
    {
      "cell_type": "code",
      "source": [
        "legit.amt.describe()"
      ],
      "metadata": {
        "colab": {
          "base_uri": "https://localhost:8080/"
        },
        "id": "mW5mJ8ncEL-E",
        "outputId": "c5c5a693-df5c-4a17-ed74-aa0ae049a7d3"
      },
      "id": "mW5mJ8ncEL-E",
      "execution_count": 213,
      "outputs": [
        {
          "output_type": "execute_result",
          "data": {
            "text/plain": [
              "count    0.0\n",
              "mean     NaN\n",
              "std      NaN\n",
              "min      NaN\n",
              "25%      NaN\n",
              "50%      NaN\n",
              "75%      NaN\n",
              "max      NaN\n",
              "Name: amt, dtype: float64"
            ]
          },
          "metadata": {},
          "execution_count": 213
        }
      ]
    },
    {
      "cell_type": "code",
      "source": [
        "fraud.amt.describe()"
      ],
      "metadata": {
        "colab": {
          "base_uri": "https://localhost:8080/"
        },
        "id": "pnx5gjBbEwIk",
        "outputId": "4a253b49-5f2b-4932-afac-50f2c7cbe67a"
      },
      "id": "pnx5gjBbEwIk",
      "execution_count": 214,
      "outputs": [
        {
          "output_type": "execute_result",
          "data": {
            "text/plain": [
              "count    3.0\n",
              "mean     1.0\n",
              "std      0.0\n",
              "min      1.0\n",
              "25%      1.0\n",
              "50%      1.0\n",
              "75%      1.0\n",
              "max      1.0\n",
              "Name: amt, dtype: float64"
            ]
          },
          "metadata": {},
          "execution_count": 214
        }
      ]
    },
    {
      "cell_type": "code",
      "source": [
        "df.groupby('amt').mean()"
      ],
      "metadata": {
        "colab": {
          "base_uri": "https://localhost:8080/",
          "height": 509
        },
        "id": "-3cKnz_AceDY",
        "outputId": "41e30ab2-456a-4488-e3f0-4d68e64bb6ea"
      },
      "id": "-3cKnz_AceDY",
      "execution_count": 216,
      "outputs": [
        {
          "output_type": "stream",
          "name": "stderr",
          "text": [
            "<ipython-input-216-0904dab08123>:1: FutureWarning: The default value of numeric_only in DataFrameGroupBy.mean is deprecated. In a future version, numeric_only will default to False. Either specify numeric_only or select only columns which should be valid for the function.\n",
            "  df.groupby('amt').mean()\n"
          ]
        },
        {
          "output_type": "execute_result",
          "data": {
            "text/plain": [
              "           Unnamed: 0        cc_num           zip        lat        long  \\\n",
              "amt                                                                        \n",
              "1.00     16719.000000  1.351667e+18  39950.142857  37.801886  -85.295314   \n",
              "1.01     19005.125000  2.995015e+15  37870.500000  41.063988  -91.089800   \n",
              "1.02     21580.833333  2.267058e+18  46025.166667  42.886633  -91.033000   \n",
              "1.03     19869.357143  9.431947e+17  40573.714286  37.808200  -86.206329   \n",
              "1.04     12712.400000  8.730343e+17  42064.266667  37.174387  -87.931640   \n",
              "...               ...           ...           ...        ...         ...   \n",
              "3632.96  25864.000000  2.131788e+14  82501.000000  43.035100 -108.202400   \n",
              "3640.18  18587.000000  3.527537e+15  29911.000000  32.941300  -81.180700   \n",
              "3936.15  15458.000000  4.469777e+18   1844.000000  42.728000  -71.181000   \n",
              "4622.47  13902.000000  3.750826e+14  56546.000000  47.099900  -96.727000   \n",
              "6600.44  13466.000000  4.378993e+15   3818.000000  43.974200  -71.150300   \n",
              "\n",
              "              city_pop     unix_time  merch_lat  merch_long  is_fraud  \n",
              "amt                                                                    \n",
              "1.00      84295.000000  1.372279e+09  37.846820  -85.723057       0.0  \n",
              "1.01       8740.000000  1.372356e+09  41.498358  -91.477605       0.0  \n",
              "1.02      66898.166667  1.372420e+09  42.726987  -90.910241       0.0  \n",
              "1.03      37220.142857  1.372383e+09  38.066210  -86.184506       0.0  \n",
              "1.04     149601.466667  1.372161e+09  37.060824  -88.002161       0.0  \n",
              "...                ...           ...        ...         ...       ...  \n",
              "3632.96   19408.000000  1.372545e+09  42.397495 -108.769871       0.0  \n",
              "3640.18    1725.000000  1.372376e+09  32.786044  -81.439775       0.0  \n",
              "3936.15   47249.000000  1.372266e+09  42.740770  -70.224448       0.0  \n",
              "4622.47     346.000000  1.372204e+09  46.790234  -97.028372       0.0  \n",
              "6600.44    3807.000000  1.372189e+09  43.741878  -71.699656       0.0  \n",
              "\n",
              "[13083 rows x 10 columns]"
            ],
            "text/html": [
              "\n",
              "\n",
              "  <div id=\"df-564499e4-f05c-4f8a-a88e-5d8a59652f6e\">\n",
              "    <div class=\"colab-df-container\">\n",
              "      <div>\n",
              "<style scoped>\n",
              "    .dataframe tbody tr th:only-of-type {\n",
              "        vertical-align: middle;\n",
              "    }\n",
              "\n",
              "    .dataframe tbody tr th {\n",
              "        vertical-align: top;\n",
              "    }\n",
              "\n",
              "    .dataframe thead th {\n",
              "        text-align: right;\n",
              "    }\n",
              "</style>\n",
              "<table border=\"1\" class=\"dataframe\">\n",
              "  <thead>\n",
              "    <tr style=\"text-align: right;\">\n",
              "      <th></th>\n",
              "      <th>Unnamed: 0</th>\n",
              "      <th>cc_num</th>\n",
              "      <th>zip</th>\n",
              "      <th>lat</th>\n",
              "      <th>long</th>\n",
              "      <th>city_pop</th>\n",
              "      <th>unix_time</th>\n",
              "      <th>merch_lat</th>\n",
              "      <th>merch_long</th>\n",
              "      <th>is_fraud</th>\n",
              "    </tr>\n",
              "    <tr>\n",
              "      <th>amt</th>\n",
              "      <th></th>\n",
              "      <th></th>\n",
              "      <th></th>\n",
              "      <th></th>\n",
              "      <th></th>\n",
              "      <th></th>\n",
              "      <th></th>\n",
              "      <th></th>\n",
              "      <th></th>\n",
              "      <th></th>\n",
              "    </tr>\n",
              "  </thead>\n",
              "  <tbody>\n",
              "    <tr>\n",
              "      <th>1.00</th>\n",
              "      <td>16719.000000</td>\n",
              "      <td>1.351667e+18</td>\n",
              "      <td>39950.142857</td>\n",
              "      <td>37.801886</td>\n",
              "      <td>-85.295314</td>\n",
              "      <td>84295.000000</td>\n",
              "      <td>1.372279e+09</td>\n",
              "      <td>37.846820</td>\n",
              "      <td>-85.723057</td>\n",
              "      <td>0.0</td>\n",
              "    </tr>\n",
              "    <tr>\n",
              "      <th>1.01</th>\n",
              "      <td>19005.125000</td>\n",
              "      <td>2.995015e+15</td>\n",
              "      <td>37870.500000</td>\n",
              "      <td>41.063988</td>\n",
              "      <td>-91.089800</td>\n",
              "      <td>8740.000000</td>\n",
              "      <td>1.372356e+09</td>\n",
              "      <td>41.498358</td>\n",
              "      <td>-91.477605</td>\n",
              "      <td>0.0</td>\n",
              "    </tr>\n",
              "    <tr>\n",
              "      <th>1.02</th>\n",
              "      <td>21580.833333</td>\n",
              "      <td>2.267058e+18</td>\n",
              "      <td>46025.166667</td>\n",
              "      <td>42.886633</td>\n",
              "      <td>-91.033000</td>\n",
              "      <td>66898.166667</td>\n",
              "      <td>1.372420e+09</td>\n",
              "      <td>42.726987</td>\n",
              "      <td>-90.910241</td>\n",
              "      <td>0.0</td>\n",
              "    </tr>\n",
              "    <tr>\n",
              "      <th>1.03</th>\n",
              "      <td>19869.357143</td>\n",
              "      <td>9.431947e+17</td>\n",
              "      <td>40573.714286</td>\n",
              "      <td>37.808200</td>\n",
              "      <td>-86.206329</td>\n",
              "      <td>37220.142857</td>\n",
              "      <td>1.372383e+09</td>\n",
              "      <td>38.066210</td>\n",
              "      <td>-86.184506</td>\n",
              "      <td>0.0</td>\n",
              "    </tr>\n",
              "    <tr>\n",
              "      <th>1.04</th>\n",
              "      <td>12712.400000</td>\n",
              "      <td>8.730343e+17</td>\n",
              "      <td>42064.266667</td>\n",
              "      <td>37.174387</td>\n",
              "      <td>-87.931640</td>\n",
              "      <td>149601.466667</td>\n",
              "      <td>1.372161e+09</td>\n",
              "      <td>37.060824</td>\n",
              "      <td>-88.002161</td>\n",
              "      <td>0.0</td>\n",
              "    </tr>\n",
              "    <tr>\n",
              "      <th>...</th>\n",
              "      <td>...</td>\n",
              "      <td>...</td>\n",
              "      <td>...</td>\n",
              "      <td>...</td>\n",
              "      <td>...</td>\n",
              "      <td>...</td>\n",
              "      <td>...</td>\n",
              "      <td>...</td>\n",
              "      <td>...</td>\n",
              "      <td>...</td>\n",
              "    </tr>\n",
              "    <tr>\n",
              "      <th>3632.96</th>\n",
              "      <td>25864.000000</td>\n",
              "      <td>2.131788e+14</td>\n",
              "      <td>82501.000000</td>\n",
              "      <td>43.035100</td>\n",
              "      <td>-108.202400</td>\n",
              "      <td>19408.000000</td>\n",
              "      <td>1.372545e+09</td>\n",
              "      <td>42.397495</td>\n",
              "      <td>-108.769871</td>\n",
              "      <td>0.0</td>\n",
              "    </tr>\n",
              "    <tr>\n",
              "      <th>3640.18</th>\n",
              "      <td>18587.000000</td>\n",
              "      <td>3.527537e+15</td>\n",
              "      <td>29911.000000</td>\n",
              "      <td>32.941300</td>\n",
              "      <td>-81.180700</td>\n",
              "      <td>1725.000000</td>\n",
              "      <td>1.372376e+09</td>\n",
              "      <td>32.786044</td>\n",
              "      <td>-81.439775</td>\n",
              "      <td>0.0</td>\n",
              "    </tr>\n",
              "    <tr>\n",
              "      <th>3936.15</th>\n",
              "      <td>15458.000000</td>\n",
              "      <td>4.469777e+18</td>\n",
              "      <td>1844.000000</td>\n",
              "      <td>42.728000</td>\n",
              "      <td>-71.181000</td>\n",
              "      <td>47249.000000</td>\n",
              "      <td>1.372266e+09</td>\n",
              "      <td>42.740770</td>\n",
              "      <td>-70.224448</td>\n",
              "      <td>0.0</td>\n",
              "    </tr>\n",
              "    <tr>\n",
              "      <th>4622.47</th>\n",
              "      <td>13902.000000</td>\n",
              "      <td>3.750826e+14</td>\n",
              "      <td>56546.000000</td>\n",
              "      <td>47.099900</td>\n",
              "      <td>-96.727000</td>\n",
              "      <td>346.000000</td>\n",
              "      <td>1.372204e+09</td>\n",
              "      <td>46.790234</td>\n",
              "      <td>-97.028372</td>\n",
              "      <td>0.0</td>\n",
              "    </tr>\n",
              "    <tr>\n",
              "      <th>6600.44</th>\n",
              "      <td>13466.000000</td>\n",
              "      <td>4.378993e+15</td>\n",
              "      <td>3818.000000</td>\n",
              "      <td>43.974200</td>\n",
              "      <td>-71.150300</td>\n",
              "      <td>3807.000000</td>\n",
              "      <td>1.372189e+09</td>\n",
              "      <td>43.741878</td>\n",
              "      <td>-71.699656</td>\n",
              "      <td>0.0</td>\n",
              "    </tr>\n",
              "  </tbody>\n",
              "</table>\n",
              "<p>13083 rows × 10 columns</p>\n",
              "</div>\n",
              "      <button class=\"colab-df-convert\" onclick=\"convertToInteractive('df-564499e4-f05c-4f8a-a88e-5d8a59652f6e')\"\n",
              "              title=\"Convert this dataframe to an interactive table.\"\n",
              "              style=\"display:none;\">\n",
              "\n",
              "  <svg xmlns=\"http://www.w3.org/2000/svg\" height=\"24px\"viewBox=\"0 0 24 24\"\n",
              "       width=\"24px\">\n",
              "    <path d=\"M0 0h24v24H0V0z\" fill=\"none\"/>\n",
              "    <path d=\"M18.56 5.44l.94 2.06.94-2.06 2.06-.94-2.06-.94-.94-2.06-.94 2.06-2.06.94zm-11 1L8.5 8.5l.94-2.06 2.06-.94-2.06-.94L8.5 2.5l-.94 2.06-2.06.94zm10 10l.94 2.06.94-2.06 2.06-.94-2.06-.94-.94-2.06-.94 2.06-2.06.94z\"/><path d=\"M17.41 7.96l-1.37-1.37c-.4-.4-.92-.59-1.43-.59-.52 0-1.04.2-1.43.59L10.3 9.45l-7.72 7.72c-.78.78-.78 2.05 0 2.83L4 21.41c.39.39.9.59 1.41.59.51 0 1.02-.2 1.41-.59l7.78-7.78 2.81-2.81c.8-.78.8-2.07 0-2.86zM5.41 20L4 18.59l7.72-7.72 1.47 1.35L5.41 20z\"/>\n",
              "  </svg>\n",
              "      </button>\n",
              "\n",
              "\n",
              "\n",
              "    <div id=\"df-b2d70be1-a433-4f9a-a45d-5e506c6a3727\">\n",
              "      <button class=\"colab-df-quickchart\" onclick=\"quickchart('df-b2d70be1-a433-4f9a-a45d-5e506c6a3727')\"\n",
              "              title=\"Suggest charts.\"\n",
              "              style=\"display:none;\">\n",
              "\n",
              "<svg xmlns=\"http://www.w3.org/2000/svg\" height=\"24px\"viewBox=\"0 0 24 24\"\n",
              "     width=\"24px\">\n",
              "    <g>\n",
              "        <path d=\"M19 3H5c-1.1 0-2 .9-2 2v14c0 1.1.9 2 2 2h14c1.1 0 2-.9 2-2V5c0-1.1-.9-2-2-2zM9 17H7v-7h2v7zm4 0h-2V7h2v10zm4 0h-2v-4h2v4z\"/>\n",
              "    </g>\n",
              "</svg>\n",
              "      </button>\n",
              "    </div>\n",
              "\n",
              "<style>\n",
              "  .colab-df-quickchart {\n",
              "    background-color: #E8F0FE;\n",
              "    border: none;\n",
              "    border-radius: 50%;\n",
              "    cursor: pointer;\n",
              "    display: none;\n",
              "    fill: #1967D2;\n",
              "    height: 32px;\n",
              "    padding: 0 0 0 0;\n",
              "    width: 32px;\n",
              "  }\n",
              "\n",
              "  .colab-df-quickchart:hover {\n",
              "    background-color: #E2EBFA;\n",
              "    box-shadow: 0px 1px 2px rgba(60, 64, 67, 0.3), 0px 1px 3px 1px rgba(60, 64, 67, 0.15);\n",
              "    fill: #174EA6;\n",
              "  }\n",
              "\n",
              "  [theme=dark] .colab-df-quickchart {\n",
              "    background-color: #3B4455;\n",
              "    fill: #D2E3FC;\n",
              "  }\n",
              "\n",
              "  [theme=dark] .colab-df-quickchart:hover {\n",
              "    background-color: #434B5C;\n",
              "    box-shadow: 0px 1px 3px 1px rgba(0, 0, 0, 0.15);\n",
              "    filter: drop-shadow(0px 1px 2px rgba(0, 0, 0, 0.3));\n",
              "    fill: #FFFFFF;\n",
              "  }\n",
              "</style>\n",
              "\n",
              "    <script>\n",
              "      async function quickchart(key) {\n",
              "        const containerElement = document.querySelector('#' + key);\n",
              "        const charts = await google.colab.kernel.invokeFunction(\n",
              "            'suggestCharts', [key], {});\n",
              "      }\n",
              "    </script>\n",
              "\n",
              "      <script>\n",
              "\n",
              "function displayQuickchartButton(domScope) {\n",
              "  let quickchartButtonEl =\n",
              "    domScope.querySelector('#df-b2d70be1-a433-4f9a-a45d-5e506c6a3727 button.colab-df-quickchart');\n",
              "  quickchartButtonEl.style.display =\n",
              "    google.colab.kernel.accessAllowed ? 'block' : 'none';\n",
              "}\n",
              "\n",
              "        displayQuickchartButton(document);\n",
              "      </script>\n",
              "      <style>\n",
              "    .colab-df-container {\n",
              "      display:flex;\n",
              "      flex-wrap:wrap;\n",
              "      gap: 12px;\n",
              "    }\n",
              "\n",
              "    .colab-df-convert {\n",
              "      background-color: #E8F0FE;\n",
              "      border: none;\n",
              "      border-radius: 50%;\n",
              "      cursor: pointer;\n",
              "      display: none;\n",
              "      fill: #1967D2;\n",
              "      height: 32px;\n",
              "      padding: 0 0 0 0;\n",
              "      width: 32px;\n",
              "    }\n",
              "\n",
              "    .colab-df-convert:hover {\n",
              "      background-color: #E2EBFA;\n",
              "      box-shadow: 0px 1px 2px rgba(60, 64, 67, 0.3), 0px 1px 3px 1px rgba(60, 64, 67, 0.15);\n",
              "      fill: #174EA6;\n",
              "    }\n",
              "\n",
              "    [theme=dark] .colab-df-convert {\n",
              "      background-color: #3B4455;\n",
              "      fill: #D2E3FC;\n",
              "    }\n",
              "\n",
              "    [theme=dark] .colab-df-convert:hover {\n",
              "      background-color: #434B5C;\n",
              "      box-shadow: 0px 1px 3px 1px rgba(0, 0, 0, 0.15);\n",
              "      filter: drop-shadow(0px 1px 2px rgba(0, 0, 0, 0.3));\n",
              "      fill: #FFFFFF;\n",
              "    }\n",
              "  </style>\n",
              "\n",
              "      <script>\n",
              "        const buttonEl =\n",
              "          document.querySelector('#df-564499e4-f05c-4f8a-a88e-5d8a59652f6e button.colab-df-convert');\n",
              "        buttonEl.style.display =\n",
              "          google.colab.kernel.accessAllowed ? 'block' : 'none';\n",
              "\n",
              "        async function convertToInteractive(key) {\n",
              "          const element = document.querySelector('#df-564499e4-f05c-4f8a-a88e-5d8a59652f6e');\n",
              "          const dataTable =\n",
              "            await google.colab.kernel.invokeFunction('convertToInteractive',\n",
              "                                                     [key], {});\n",
              "          if (!dataTable) return;\n",
              "\n",
              "          const docLinkHtml = 'Like what you see? Visit the ' +\n",
              "            '<a target=\"_blank\" href=https://colab.research.google.com/notebooks/data_table.ipynb>data table notebook</a>'\n",
              "            + ' to learn more about interactive tables.';\n",
              "          element.innerHTML = '';\n",
              "          dataTable['output_type'] = 'display_data';\n",
              "          await google.colab.output.renderOutput(dataTable, element);\n",
              "          const docLink = document.createElement('div');\n",
              "          docLink.innerHTML = docLinkHtml;\n",
              "          element.appendChild(docLink);\n",
              "        }\n",
              "      </script>\n",
              "    </div>\n",
              "  </div>\n"
            ]
          },
          "metadata": {},
          "execution_count": 216
        }
      ]
    },
    {
      "cell_type": "code",
      "source": [
        "new_dataset = pd.concat([legit, fraud], axis=0)"
      ],
      "metadata": {
        "id": "uzlN5vfPcq5V"
      },
      "id": "uzlN5vfPcq5V",
      "execution_count": 217,
      "outputs": []
    },
    {
      "cell_type": "code",
      "source": [
        "new_dataset.head()"
      ],
      "metadata": {
        "colab": {
          "base_uri": "https://localhost:8080/",
          "height": 427
        },
        "id": "gw747Xvtc-im",
        "outputId": "f8591c16-d6c9-4da5-9cf6-20cb503fffc6"
      },
      "id": "gw747Xvtc-im",
      "execution_count": 218,
      "outputs": [
        {
          "output_type": "execute_result",
          "data": {
            "text/plain": [
              "      Unnamed: 0 trans_date_trans_time               cc_num  \\\n",
              "3942        3942   2020-06-22 13:42:53  4897067971111209737   \n",
              "4436        4436   2020-06-22 15:57:47     4191109180926792   \n",
              "5258        5258   2020-06-22 19:49:19         571365235126   \n",
              "\n",
              "                                  merchant      category  amt     first  \\\n",
              "3942                 fraud_Johnston-Casper        travel  1.0     Randy   \n",
              "4436  fraud_Langworth, Boehm and Gulgowski  shopping_net  1.0  Jennifer   \n",
              "5258         fraud_Kuhic, Bins and Pfeffer  shopping_net  1.0   Barbara   \n",
              "\n",
              "         last gender                      street  ...     long city_pop  \\\n",
              "3942     Wood      M   542 Howe Mission Apt. 092  ... -82.6927  42619.0   \n",
              "4436  Spencer      F            477 Wheeler Burg  ... -82.7552   4512.0   \n",
              "5258   Taylor      F  0069 Robin Brooks Apt. 695  ... -86.2141    372.0   \n",
              "\n",
              "                                      job         dob  \\\n",
              "3942      Environmental education officer  1975-10-07   \n",
              "4436                         Farm manager  1992-10-03   \n",
              "5258  Exhibitions officer, museum/gallery  1995-07-12   \n",
              "\n",
              "                             trans_num     unix_time  merch_lat merch_long  \\\n",
              "3942  702d4af26c7e9e7311b8f1b774955481  1.371909e+09  28.745893 -83.478989   \n",
              "4436  b468beb46ee3bbebd43e962ecca733d1  1.371917e+09  40.235605 -82.232475   \n",
              "5258  0e5e5a49757d0804c928da89403ad8b3  1.371931e+09  44.717170 -86.940090   \n",
              "\n",
              "     is_fraud     cc_numamt  \n",
              "3942      0.0  4.897068e+18  \n",
              "4436      0.0  4.191109e+15  \n",
              "5258      0.0  5.713652e+11  \n",
              "\n",
              "[3 rows x 24 columns]"
            ],
            "text/html": [
              "\n",
              "\n",
              "  <div id=\"df-eb7a5b89-d1b1-439c-982c-458c5a840114\">\n",
              "    <div class=\"colab-df-container\">\n",
              "      <div>\n",
              "<style scoped>\n",
              "    .dataframe tbody tr th:only-of-type {\n",
              "        vertical-align: middle;\n",
              "    }\n",
              "\n",
              "    .dataframe tbody tr th {\n",
              "        vertical-align: top;\n",
              "    }\n",
              "\n",
              "    .dataframe thead th {\n",
              "        text-align: right;\n",
              "    }\n",
              "</style>\n",
              "<table border=\"1\" class=\"dataframe\">\n",
              "  <thead>\n",
              "    <tr style=\"text-align: right;\">\n",
              "      <th></th>\n",
              "      <th>Unnamed: 0</th>\n",
              "      <th>trans_date_trans_time</th>\n",
              "      <th>cc_num</th>\n",
              "      <th>merchant</th>\n",
              "      <th>category</th>\n",
              "      <th>amt</th>\n",
              "      <th>first</th>\n",
              "      <th>last</th>\n",
              "      <th>gender</th>\n",
              "      <th>street</th>\n",
              "      <th>...</th>\n",
              "      <th>long</th>\n",
              "      <th>city_pop</th>\n",
              "      <th>job</th>\n",
              "      <th>dob</th>\n",
              "      <th>trans_num</th>\n",
              "      <th>unix_time</th>\n",
              "      <th>merch_lat</th>\n",
              "      <th>merch_long</th>\n",
              "      <th>is_fraud</th>\n",
              "      <th>cc_numamt</th>\n",
              "    </tr>\n",
              "  </thead>\n",
              "  <tbody>\n",
              "    <tr>\n",
              "      <th>3942</th>\n",
              "      <td>3942</td>\n",
              "      <td>2020-06-22 13:42:53</td>\n",
              "      <td>4897067971111209737</td>\n",
              "      <td>fraud_Johnston-Casper</td>\n",
              "      <td>travel</td>\n",
              "      <td>1.0</td>\n",
              "      <td>Randy</td>\n",
              "      <td>Wood</td>\n",
              "      <td>M</td>\n",
              "      <td>542 Howe Mission Apt. 092</td>\n",
              "      <td>...</td>\n",
              "      <td>-82.6927</td>\n",
              "      <td>42619.0</td>\n",
              "      <td>Environmental education officer</td>\n",
              "      <td>1975-10-07</td>\n",
              "      <td>702d4af26c7e9e7311b8f1b774955481</td>\n",
              "      <td>1.371909e+09</td>\n",
              "      <td>28.745893</td>\n",
              "      <td>-83.478989</td>\n",
              "      <td>0.0</td>\n",
              "      <td>4.897068e+18</td>\n",
              "    </tr>\n",
              "    <tr>\n",
              "      <th>4436</th>\n",
              "      <td>4436</td>\n",
              "      <td>2020-06-22 15:57:47</td>\n",
              "      <td>4191109180926792</td>\n",
              "      <td>fraud_Langworth, Boehm and Gulgowski</td>\n",
              "      <td>shopping_net</td>\n",
              "      <td>1.0</td>\n",
              "      <td>Jennifer</td>\n",
              "      <td>Spencer</td>\n",
              "      <td>F</td>\n",
              "      <td>477 Wheeler Burg</td>\n",
              "      <td>...</td>\n",
              "      <td>-82.7552</td>\n",
              "      <td>4512.0</td>\n",
              "      <td>Farm manager</td>\n",
              "      <td>1992-10-03</td>\n",
              "      <td>b468beb46ee3bbebd43e962ecca733d1</td>\n",
              "      <td>1.371917e+09</td>\n",
              "      <td>40.235605</td>\n",
              "      <td>-82.232475</td>\n",
              "      <td>0.0</td>\n",
              "      <td>4.191109e+15</td>\n",
              "    </tr>\n",
              "    <tr>\n",
              "      <th>5258</th>\n",
              "      <td>5258</td>\n",
              "      <td>2020-06-22 19:49:19</td>\n",
              "      <td>571365235126</td>\n",
              "      <td>fraud_Kuhic, Bins and Pfeffer</td>\n",
              "      <td>shopping_net</td>\n",
              "      <td>1.0</td>\n",
              "      <td>Barbara</td>\n",
              "      <td>Taylor</td>\n",
              "      <td>F</td>\n",
              "      <td>0069 Robin Brooks Apt. 695</td>\n",
              "      <td>...</td>\n",
              "      <td>-86.2141</td>\n",
              "      <td>372.0</td>\n",
              "      <td>Exhibitions officer, museum/gallery</td>\n",
              "      <td>1995-07-12</td>\n",
              "      <td>0e5e5a49757d0804c928da89403ad8b3</td>\n",
              "      <td>1.371931e+09</td>\n",
              "      <td>44.717170</td>\n",
              "      <td>-86.940090</td>\n",
              "      <td>0.0</td>\n",
              "      <td>5.713652e+11</td>\n",
              "    </tr>\n",
              "  </tbody>\n",
              "</table>\n",
              "<p>3 rows × 24 columns</p>\n",
              "</div>\n",
              "      <button class=\"colab-df-convert\" onclick=\"convertToInteractive('df-eb7a5b89-d1b1-439c-982c-458c5a840114')\"\n",
              "              title=\"Convert this dataframe to an interactive table.\"\n",
              "              style=\"display:none;\">\n",
              "\n",
              "  <svg xmlns=\"http://www.w3.org/2000/svg\" height=\"24px\"viewBox=\"0 0 24 24\"\n",
              "       width=\"24px\">\n",
              "    <path d=\"M0 0h24v24H0V0z\" fill=\"none\"/>\n",
              "    <path d=\"M18.56 5.44l.94 2.06.94-2.06 2.06-.94-2.06-.94-.94-2.06-.94 2.06-2.06.94zm-11 1L8.5 8.5l.94-2.06 2.06-.94-2.06-.94L8.5 2.5l-.94 2.06-2.06.94zm10 10l.94 2.06.94-2.06 2.06-.94-2.06-.94-.94-2.06-.94 2.06-2.06.94z\"/><path d=\"M17.41 7.96l-1.37-1.37c-.4-.4-.92-.59-1.43-.59-.52 0-1.04.2-1.43.59L10.3 9.45l-7.72 7.72c-.78.78-.78 2.05 0 2.83L4 21.41c.39.39.9.59 1.41.59.51 0 1.02-.2 1.41-.59l7.78-7.78 2.81-2.81c.8-.78.8-2.07 0-2.86zM5.41 20L4 18.59l7.72-7.72 1.47 1.35L5.41 20z\"/>\n",
              "  </svg>\n",
              "      </button>\n",
              "\n",
              "\n",
              "\n",
              "    <div id=\"df-c707cf31-af94-4829-a067-bcab43f9f19c\">\n",
              "      <button class=\"colab-df-quickchart\" onclick=\"quickchart('df-c707cf31-af94-4829-a067-bcab43f9f19c')\"\n",
              "              title=\"Suggest charts.\"\n",
              "              style=\"display:none;\">\n",
              "\n",
              "<svg xmlns=\"http://www.w3.org/2000/svg\" height=\"24px\"viewBox=\"0 0 24 24\"\n",
              "     width=\"24px\">\n",
              "    <g>\n",
              "        <path d=\"M19 3H5c-1.1 0-2 .9-2 2v14c0 1.1.9 2 2 2h14c1.1 0 2-.9 2-2V5c0-1.1-.9-2-2-2zM9 17H7v-7h2v7zm4 0h-2V7h2v10zm4 0h-2v-4h2v4z\"/>\n",
              "    </g>\n",
              "</svg>\n",
              "      </button>\n",
              "    </div>\n",
              "\n",
              "<style>\n",
              "  .colab-df-quickchart {\n",
              "    background-color: #E8F0FE;\n",
              "    border: none;\n",
              "    border-radius: 50%;\n",
              "    cursor: pointer;\n",
              "    display: none;\n",
              "    fill: #1967D2;\n",
              "    height: 32px;\n",
              "    padding: 0 0 0 0;\n",
              "    width: 32px;\n",
              "  }\n",
              "\n",
              "  .colab-df-quickchart:hover {\n",
              "    background-color: #E2EBFA;\n",
              "    box-shadow: 0px 1px 2px rgba(60, 64, 67, 0.3), 0px 1px 3px 1px rgba(60, 64, 67, 0.15);\n",
              "    fill: #174EA6;\n",
              "  }\n",
              "\n",
              "  [theme=dark] .colab-df-quickchart {\n",
              "    background-color: #3B4455;\n",
              "    fill: #D2E3FC;\n",
              "  }\n",
              "\n",
              "  [theme=dark] .colab-df-quickchart:hover {\n",
              "    background-color: #434B5C;\n",
              "    box-shadow: 0px 1px 3px 1px rgba(0, 0, 0, 0.15);\n",
              "    filter: drop-shadow(0px 1px 2px rgba(0, 0, 0, 0.3));\n",
              "    fill: #FFFFFF;\n",
              "  }\n",
              "</style>\n",
              "\n",
              "    <script>\n",
              "      async function quickchart(key) {\n",
              "        const containerElement = document.querySelector('#' + key);\n",
              "        const charts = await google.colab.kernel.invokeFunction(\n",
              "            'suggestCharts', [key], {});\n",
              "      }\n",
              "    </script>\n",
              "\n",
              "      <script>\n",
              "\n",
              "function displayQuickchartButton(domScope) {\n",
              "  let quickchartButtonEl =\n",
              "    domScope.querySelector('#df-c707cf31-af94-4829-a067-bcab43f9f19c button.colab-df-quickchart');\n",
              "  quickchartButtonEl.style.display =\n",
              "    google.colab.kernel.accessAllowed ? 'block' : 'none';\n",
              "}\n",
              "\n",
              "        displayQuickchartButton(document);\n",
              "      </script>\n",
              "      <style>\n",
              "    .colab-df-container {\n",
              "      display:flex;\n",
              "      flex-wrap:wrap;\n",
              "      gap: 12px;\n",
              "    }\n",
              "\n",
              "    .colab-df-convert {\n",
              "      background-color: #E8F0FE;\n",
              "      border: none;\n",
              "      border-radius: 50%;\n",
              "      cursor: pointer;\n",
              "      display: none;\n",
              "      fill: #1967D2;\n",
              "      height: 32px;\n",
              "      padding: 0 0 0 0;\n",
              "      width: 32px;\n",
              "    }\n",
              "\n",
              "    .colab-df-convert:hover {\n",
              "      background-color: #E2EBFA;\n",
              "      box-shadow: 0px 1px 2px rgba(60, 64, 67, 0.3), 0px 1px 3px 1px rgba(60, 64, 67, 0.15);\n",
              "      fill: #174EA6;\n",
              "    }\n",
              "\n",
              "    [theme=dark] .colab-df-convert {\n",
              "      background-color: #3B4455;\n",
              "      fill: #D2E3FC;\n",
              "    }\n",
              "\n",
              "    [theme=dark] .colab-df-convert:hover {\n",
              "      background-color: #434B5C;\n",
              "      box-shadow: 0px 1px 3px 1px rgba(0, 0, 0, 0.15);\n",
              "      filter: drop-shadow(0px 1px 2px rgba(0, 0, 0, 0.3));\n",
              "      fill: #FFFFFF;\n",
              "    }\n",
              "  </style>\n",
              "\n",
              "      <script>\n",
              "        const buttonEl =\n",
              "          document.querySelector('#df-eb7a5b89-d1b1-439c-982c-458c5a840114 button.colab-df-convert');\n",
              "        buttonEl.style.display =\n",
              "          google.colab.kernel.accessAllowed ? 'block' : 'none';\n",
              "\n",
              "        async function convertToInteractive(key) {\n",
              "          const element = document.querySelector('#df-eb7a5b89-d1b1-439c-982c-458c5a840114');\n",
              "          const dataTable =\n",
              "            await google.colab.kernel.invokeFunction('convertToInteractive',\n",
              "                                                     [key], {});\n",
              "          if (!dataTable) return;\n",
              "\n",
              "          const docLinkHtml = 'Like what you see? Visit the ' +\n",
              "            '<a target=\"_blank\" href=https://colab.research.google.com/notebooks/data_table.ipynb>data table notebook</a>'\n",
              "            + ' to learn more about interactive tables.';\n",
              "          element.innerHTML = '';\n",
              "          dataTable['output_type'] = 'display_data';\n",
              "          await google.colab.output.renderOutput(dataTable, element);\n",
              "          const docLink = document.createElement('div');\n",
              "          docLink.innerHTML = docLinkHtml;\n",
              "          element.appendChild(docLink);\n",
              "        }\n",
              "      </script>\n",
              "    </div>\n",
              "  </div>\n"
            ]
          },
          "metadata": {},
          "execution_count": 218
        }
      ]
    },
    {
      "cell_type": "code",
      "source": [
        "new_dataset.tail()"
      ],
      "metadata": {
        "colab": {
          "base_uri": "https://localhost:8080/",
          "height": 427
        },
        "id": "SONdPDpydBrd",
        "outputId": "ec3b43fb-e553-4a8b-8ec8-00a5ea359b39"
      },
      "id": "SONdPDpydBrd",
      "execution_count": 219,
      "outputs": [
        {
          "output_type": "execute_result",
          "data": {
            "text/plain": [
              "      Unnamed: 0 trans_date_trans_time               cc_num  \\\n",
              "3942        3942   2020-06-22 13:42:53  4897067971111209737   \n",
              "4436        4436   2020-06-22 15:57:47     4191109180926792   \n",
              "5258        5258   2020-06-22 19:49:19         571365235126   \n",
              "\n",
              "                                  merchant      category  amt     first  \\\n",
              "3942                 fraud_Johnston-Casper        travel  1.0     Randy   \n",
              "4436  fraud_Langworth, Boehm and Gulgowski  shopping_net  1.0  Jennifer   \n",
              "5258         fraud_Kuhic, Bins and Pfeffer  shopping_net  1.0   Barbara   \n",
              "\n",
              "         last gender                      street  ...     long city_pop  \\\n",
              "3942     Wood      M   542 Howe Mission Apt. 092  ... -82.6927  42619.0   \n",
              "4436  Spencer      F            477 Wheeler Burg  ... -82.7552   4512.0   \n",
              "5258   Taylor      F  0069 Robin Brooks Apt. 695  ... -86.2141    372.0   \n",
              "\n",
              "                                      job         dob  \\\n",
              "3942      Environmental education officer  1975-10-07   \n",
              "4436                         Farm manager  1992-10-03   \n",
              "5258  Exhibitions officer, museum/gallery  1995-07-12   \n",
              "\n",
              "                             trans_num     unix_time  merch_lat merch_long  \\\n",
              "3942  702d4af26c7e9e7311b8f1b774955481  1.371909e+09  28.745893 -83.478989   \n",
              "4436  b468beb46ee3bbebd43e962ecca733d1  1.371917e+09  40.235605 -82.232475   \n",
              "5258  0e5e5a49757d0804c928da89403ad8b3  1.371931e+09  44.717170 -86.940090   \n",
              "\n",
              "     is_fraud     cc_numamt  \n",
              "3942      0.0  4.897068e+18  \n",
              "4436      0.0  4.191109e+15  \n",
              "5258      0.0  5.713652e+11  \n",
              "\n",
              "[3 rows x 24 columns]"
            ],
            "text/html": [
              "\n",
              "\n",
              "  <div id=\"df-72de92a5-68d1-47c0-8a0d-75d9647202f0\">\n",
              "    <div class=\"colab-df-container\">\n",
              "      <div>\n",
              "<style scoped>\n",
              "    .dataframe tbody tr th:only-of-type {\n",
              "        vertical-align: middle;\n",
              "    }\n",
              "\n",
              "    .dataframe tbody tr th {\n",
              "        vertical-align: top;\n",
              "    }\n",
              "\n",
              "    .dataframe thead th {\n",
              "        text-align: right;\n",
              "    }\n",
              "</style>\n",
              "<table border=\"1\" class=\"dataframe\">\n",
              "  <thead>\n",
              "    <tr style=\"text-align: right;\">\n",
              "      <th></th>\n",
              "      <th>Unnamed: 0</th>\n",
              "      <th>trans_date_trans_time</th>\n",
              "      <th>cc_num</th>\n",
              "      <th>merchant</th>\n",
              "      <th>category</th>\n",
              "      <th>amt</th>\n",
              "      <th>first</th>\n",
              "      <th>last</th>\n",
              "      <th>gender</th>\n",
              "      <th>street</th>\n",
              "      <th>...</th>\n",
              "      <th>long</th>\n",
              "      <th>city_pop</th>\n",
              "      <th>job</th>\n",
              "      <th>dob</th>\n",
              "      <th>trans_num</th>\n",
              "      <th>unix_time</th>\n",
              "      <th>merch_lat</th>\n",
              "      <th>merch_long</th>\n",
              "      <th>is_fraud</th>\n",
              "      <th>cc_numamt</th>\n",
              "    </tr>\n",
              "  </thead>\n",
              "  <tbody>\n",
              "    <tr>\n",
              "      <th>3942</th>\n",
              "      <td>3942</td>\n",
              "      <td>2020-06-22 13:42:53</td>\n",
              "      <td>4897067971111209737</td>\n",
              "      <td>fraud_Johnston-Casper</td>\n",
              "      <td>travel</td>\n",
              "      <td>1.0</td>\n",
              "      <td>Randy</td>\n",
              "      <td>Wood</td>\n",
              "      <td>M</td>\n",
              "      <td>542 Howe Mission Apt. 092</td>\n",
              "      <td>...</td>\n",
              "      <td>-82.6927</td>\n",
              "      <td>42619.0</td>\n",
              "      <td>Environmental education officer</td>\n",
              "      <td>1975-10-07</td>\n",
              "      <td>702d4af26c7e9e7311b8f1b774955481</td>\n",
              "      <td>1.371909e+09</td>\n",
              "      <td>28.745893</td>\n",
              "      <td>-83.478989</td>\n",
              "      <td>0.0</td>\n",
              "      <td>4.897068e+18</td>\n",
              "    </tr>\n",
              "    <tr>\n",
              "      <th>4436</th>\n",
              "      <td>4436</td>\n",
              "      <td>2020-06-22 15:57:47</td>\n",
              "      <td>4191109180926792</td>\n",
              "      <td>fraud_Langworth, Boehm and Gulgowski</td>\n",
              "      <td>shopping_net</td>\n",
              "      <td>1.0</td>\n",
              "      <td>Jennifer</td>\n",
              "      <td>Spencer</td>\n",
              "      <td>F</td>\n",
              "      <td>477 Wheeler Burg</td>\n",
              "      <td>...</td>\n",
              "      <td>-82.7552</td>\n",
              "      <td>4512.0</td>\n",
              "      <td>Farm manager</td>\n",
              "      <td>1992-10-03</td>\n",
              "      <td>b468beb46ee3bbebd43e962ecca733d1</td>\n",
              "      <td>1.371917e+09</td>\n",
              "      <td>40.235605</td>\n",
              "      <td>-82.232475</td>\n",
              "      <td>0.0</td>\n",
              "      <td>4.191109e+15</td>\n",
              "    </tr>\n",
              "    <tr>\n",
              "      <th>5258</th>\n",
              "      <td>5258</td>\n",
              "      <td>2020-06-22 19:49:19</td>\n",
              "      <td>571365235126</td>\n",
              "      <td>fraud_Kuhic, Bins and Pfeffer</td>\n",
              "      <td>shopping_net</td>\n",
              "      <td>1.0</td>\n",
              "      <td>Barbara</td>\n",
              "      <td>Taylor</td>\n",
              "      <td>F</td>\n",
              "      <td>0069 Robin Brooks Apt. 695</td>\n",
              "      <td>...</td>\n",
              "      <td>-86.2141</td>\n",
              "      <td>372.0</td>\n",
              "      <td>Exhibitions officer, museum/gallery</td>\n",
              "      <td>1995-07-12</td>\n",
              "      <td>0e5e5a49757d0804c928da89403ad8b3</td>\n",
              "      <td>1.371931e+09</td>\n",
              "      <td>44.717170</td>\n",
              "      <td>-86.940090</td>\n",
              "      <td>0.0</td>\n",
              "      <td>5.713652e+11</td>\n",
              "    </tr>\n",
              "  </tbody>\n",
              "</table>\n",
              "<p>3 rows × 24 columns</p>\n",
              "</div>\n",
              "      <button class=\"colab-df-convert\" onclick=\"convertToInteractive('df-72de92a5-68d1-47c0-8a0d-75d9647202f0')\"\n",
              "              title=\"Convert this dataframe to an interactive table.\"\n",
              "              style=\"display:none;\">\n",
              "\n",
              "  <svg xmlns=\"http://www.w3.org/2000/svg\" height=\"24px\"viewBox=\"0 0 24 24\"\n",
              "       width=\"24px\">\n",
              "    <path d=\"M0 0h24v24H0V0z\" fill=\"none\"/>\n",
              "    <path d=\"M18.56 5.44l.94 2.06.94-2.06 2.06-.94-2.06-.94-.94-2.06-.94 2.06-2.06.94zm-11 1L8.5 8.5l.94-2.06 2.06-.94-2.06-.94L8.5 2.5l-.94 2.06-2.06.94zm10 10l.94 2.06.94-2.06 2.06-.94-2.06-.94-.94-2.06-.94 2.06-2.06.94z\"/><path d=\"M17.41 7.96l-1.37-1.37c-.4-.4-.92-.59-1.43-.59-.52 0-1.04.2-1.43.59L10.3 9.45l-7.72 7.72c-.78.78-.78 2.05 0 2.83L4 21.41c.39.39.9.59 1.41.59.51 0 1.02-.2 1.41-.59l7.78-7.78 2.81-2.81c.8-.78.8-2.07 0-2.86zM5.41 20L4 18.59l7.72-7.72 1.47 1.35L5.41 20z\"/>\n",
              "  </svg>\n",
              "      </button>\n",
              "\n",
              "\n",
              "\n",
              "    <div id=\"df-71dd837c-b53d-4c23-ad79-2ada1ac29868\">\n",
              "      <button class=\"colab-df-quickchart\" onclick=\"quickchart('df-71dd837c-b53d-4c23-ad79-2ada1ac29868')\"\n",
              "              title=\"Suggest charts.\"\n",
              "              style=\"display:none;\">\n",
              "\n",
              "<svg xmlns=\"http://www.w3.org/2000/svg\" height=\"24px\"viewBox=\"0 0 24 24\"\n",
              "     width=\"24px\">\n",
              "    <g>\n",
              "        <path d=\"M19 3H5c-1.1 0-2 .9-2 2v14c0 1.1.9 2 2 2h14c1.1 0 2-.9 2-2V5c0-1.1-.9-2-2-2zM9 17H7v-7h2v7zm4 0h-2V7h2v10zm4 0h-2v-4h2v4z\"/>\n",
              "    </g>\n",
              "</svg>\n",
              "      </button>\n",
              "    </div>\n",
              "\n",
              "<style>\n",
              "  .colab-df-quickchart {\n",
              "    background-color: #E8F0FE;\n",
              "    border: none;\n",
              "    border-radius: 50%;\n",
              "    cursor: pointer;\n",
              "    display: none;\n",
              "    fill: #1967D2;\n",
              "    height: 32px;\n",
              "    padding: 0 0 0 0;\n",
              "    width: 32px;\n",
              "  }\n",
              "\n",
              "  .colab-df-quickchart:hover {\n",
              "    background-color: #E2EBFA;\n",
              "    box-shadow: 0px 1px 2px rgba(60, 64, 67, 0.3), 0px 1px 3px 1px rgba(60, 64, 67, 0.15);\n",
              "    fill: #174EA6;\n",
              "  }\n",
              "\n",
              "  [theme=dark] .colab-df-quickchart {\n",
              "    background-color: #3B4455;\n",
              "    fill: #D2E3FC;\n",
              "  }\n",
              "\n",
              "  [theme=dark] .colab-df-quickchart:hover {\n",
              "    background-color: #434B5C;\n",
              "    box-shadow: 0px 1px 3px 1px rgba(0, 0, 0, 0.15);\n",
              "    filter: drop-shadow(0px 1px 2px rgba(0, 0, 0, 0.3));\n",
              "    fill: #FFFFFF;\n",
              "  }\n",
              "</style>\n",
              "\n",
              "    <script>\n",
              "      async function quickchart(key) {\n",
              "        const containerElement = document.querySelector('#' + key);\n",
              "        const charts = await google.colab.kernel.invokeFunction(\n",
              "            'suggestCharts', [key], {});\n",
              "      }\n",
              "    </script>\n",
              "\n",
              "      <script>\n",
              "\n",
              "function displayQuickchartButton(domScope) {\n",
              "  let quickchartButtonEl =\n",
              "    domScope.querySelector('#df-71dd837c-b53d-4c23-ad79-2ada1ac29868 button.colab-df-quickchart');\n",
              "  quickchartButtonEl.style.display =\n",
              "    google.colab.kernel.accessAllowed ? 'block' : 'none';\n",
              "}\n",
              "\n",
              "        displayQuickchartButton(document);\n",
              "      </script>\n",
              "      <style>\n",
              "    .colab-df-container {\n",
              "      display:flex;\n",
              "      flex-wrap:wrap;\n",
              "      gap: 12px;\n",
              "    }\n",
              "\n",
              "    .colab-df-convert {\n",
              "      background-color: #E8F0FE;\n",
              "      border: none;\n",
              "      border-radius: 50%;\n",
              "      cursor: pointer;\n",
              "      display: none;\n",
              "      fill: #1967D2;\n",
              "      height: 32px;\n",
              "      padding: 0 0 0 0;\n",
              "      width: 32px;\n",
              "    }\n",
              "\n",
              "    .colab-df-convert:hover {\n",
              "      background-color: #E2EBFA;\n",
              "      box-shadow: 0px 1px 2px rgba(60, 64, 67, 0.3), 0px 1px 3px 1px rgba(60, 64, 67, 0.15);\n",
              "      fill: #174EA6;\n",
              "    }\n",
              "\n",
              "    [theme=dark] .colab-df-convert {\n",
              "      background-color: #3B4455;\n",
              "      fill: #D2E3FC;\n",
              "    }\n",
              "\n",
              "    [theme=dark] .colab-df-convert:hover {\n",
              "      background-color: #434B5C;\n",
              "      box-shadow: 0px 1px 3px 1px rgba(0, 0, 0, 0.15);\n",
              "      filter: drop-shadow(0px 1px 2px rgba(0, 0, 0, 0.3));\n",
              "      fill: #FFFFFF;\n",
              "    }\n",
              "  </style>\n",
              "\n",
              "      <script>\n",
              "        const buttonEl =\n",
              "          document.querySelector('#df-72de92a5-68d1-47c0-8a0d-75d9647202f0 button.colab-df-convert');\n",
              "        buttonEl.style.display =\n",
              "          google.colab.kernel.accessAllowed ? 'block' : 'none';\n",
              "\n",
              "        async function convertToInteractive(key) {\n",
              "          const element = document.querySelector('#df-72de92a5-68d1-47c0-8a0d-75d9647202f0');\n",
              "          const dataTable =\n",
              "            await google.colab.kernel.invokeFunction('convertToInteractive',\n",
              "                                                     [key], {});\n",
              "          if (!dataTable) return;\n",
              "\n",
              "          const docLinkHtml = 'Like what you see? Visit the ' +\n",
              "            '<a target=\"_blank\" href=https://colab.research.google.com/notebooks/data_table.ipynb>data table notebook</a>'\n",
              "            + ' to learn more about interactive tables.';\n",
              "          element.innerHTML = '';\n",
              "          dataTable['output_type'] = 'display_data';\n",
              "          await google.colab.output.renderOutput(dataTable, element);\n",
              "          const docLink = document.createElement('div');\n",
              "          docLink.innerHTML = docLinkHtml;\n",
              "          element.appendChild(docLink);\n",
              "        }\n",
              "      </script>\n",
              "    </div>\n",
              "  </div>\n"
            ]
          },
          "metadata": {},
          "execution_count": 219
        }
      ]
    },
    {
      "cell_type": "code",
      "source": [
        "new_dataset['long'].value_counts()"
      ],
      "metadata": {
        "colab": {
          "base_uri": "https://localhost:8080/"
        },
        "id": "q6_bKR77dFUx",
        "outputId": "2954b370-ade7-4019-82eb-45887699c888"
      },
      "id": "q6_bKR77dFUx",
      "execution_count": 220,
      "outputs": [
        {
          "output_type": "execute_result",
          "data": {
            "text/plain": [
              "-82.6927    1\n",
              "-82.7552    1\n",
              "-86.2141    1\n",
              "Name: long, dtype: int64"
            ]
          },
          "metadata": {},
          "execution_count": 220
        }
      ]
    },
    {
      "cell_type": "code",
      "source": [
        "X = new_dataset.drop(columns='long', axis=1)\n",
        "Y = new_dataset['long']"
      ],
      "metadata": {
        "id": "MHwyoJgufBWo"
      },
      "id": "MHwyoJgufBWo",
      "execution_count": 221,
      "outputs": []
    },
    {
      "cell_type": "code",
      "source": [
        "print(X)"
      ],
      "metadata": {
        "colab": {
          "base_uri": "https://localhost:8080/"
        },
        "id": "WJFYBGbEfOBd",
        "outputId": "48f8a8c3-d548-4940-81ee-9bbe687bcafe"
      },
      "id": "WJFYBGbEfOBd",
      "execution_count": 222,
      "outputs": [
        {
          "output_type": "stream",
          "name": "stdout",
          "text": [
            "      Unnamed: 0 trans_date_trans_time               cc_num  \\\n",
            "3942        3942   2020-06-22 13:42:53  4897067971111209737   \n",
            "4436        4436   2020-06-22 15:57:47     4191109180926792   \n",
            "5258        5258   2020-06-22 19:49:19         571365235126   \n",
            "\n",
            "                                  merchant      category  amt     first  \\\n",
            "3942                 fraud_Johnston-Casper        travel  1.0     Randy   \n",
            "4436  fraud_Langworth, Boehm and Gulgowski  shopping_net  1.0  Jennifer   \n",
            "5258         fraud_Kuhic, Bins and Pfeffer  shopping_net  1.0   Barbara   \n",
            "\n",
            "         last gender                      street  ...      lat city_pop  \\\n",
            "3942     Wood      M   542 Howe Mission Apt. 092  ...  28.3011  42619.0   \n",
            "4436  Spencer      F            477 Wheeler Burg  ...  39.6251   4512.0   \n",
            "5258   Taylor      F  0069 Robin Brooks Apt. 695  ...  44.5995    372.0   \n",
            "\n",
            "                                      job         dob  \\\n",
            "3942      Environmental education officer  1975-10-07   \n",
            "4436                         Farm manager  1992-10-03   \n",
            "5258  Exhibitions officer, museum/gallery  1995-07-12   \n",
            "\n",
            "                             trans_num     unix_time  merch_lat merch_long  \\\n",
            "3942  702d4af26c7e9e7311b8f1b774955481  1.371909e+09  28.745893 -83.478989   \n",
            "4436  b468beb46ee3bbebd43e962ecca733d1  1.371917e+09  40.235605 -82.232475   \n",
            "5258  0e5e5a49757d0804c928da89403ad8b3  1.371931e+09  44.717170 -86.940090   \n",
            "\n",
            "      is_fraud     cc_numamt  \n",
            "3942       0.0  4.897068e+18  \n",
            "4436       0.0  4.191109e+15  \n",
            "5258       0.0  5.713652e+11  \n",
            "\n",
            "[3 rows x 23 columns]\n"
          ]
        }
      ]
    },
    {
      "cell_type": "code",
      "source": [
        "print(Y)\n"
      ],
      "metadata": {
        "colab": {
          "base_uri": "https://localhost:8080/"
        },
        "id": "o4z0ISXjfRsK",
        "outputId": "c5c905a8-27ce-40aa-e29c-2d66cb5cfe46"
      },
      "id": "o4z0ISXjfRsK",
      "execution_count": 223,
      "outputs": [
        {
          "output_type": "stream",
          "name": "stdout",
          "text": [
            "3942   -82.6927\n",
            "4436   -82.7552\n",
            "5258   -86.2141\n",
            "Name: long, dtype: float64\n"
          ]
        }
      ]
    },
    {
      "cell_type": "code",
      "source": [
        "X_train, X_test, Y_train, Y_test = train_test_split(X, Y, test_size=0.2, random_state=2)"
      ],
      "metadata": {
        "id": "jSZ0fSi5ghTR"
      },
      "id": "jSZ0fSi5ghTR",
      "execution_count": 228,
      "outputs": []
    },
    {
      "cell_type": "code",
      "source": [
        "print(X.shape, X_train.shape, X_test.shape)"
      ],
      "metadata": {
        "colab": {
          "base_uri": "https://localhost:8080/"
        },
        "id": "ZJZfOwnqhJry",
        "outputId": "e2bb92c4-0ac2-4f73-a060-5e68700062b9"
      },
      "id": "ZJZfOwnqhJry",
      "execution_count": 229,
      "outputs": [
        {
          "output_type": "stream",
          "name": "stdout",
          "text": [
            "(3, 23) (2, 23) (1, 23)\n"
          ]
        }
      ]
    },
    {
      "cell_type": "code",
      "source": [
        "df['is_fraud'].value_counts()"
      ],
      "metadata": {
        "colab": {
          "base_uri": "https://localhost:8080/"
        },
        "id": "tzDGVzRMl6mj",
        "outputId": "3242817f-2f8c-4492-ae24-964862ec6d2e"
      },
      "id": "tzDGVzRMl6mj",
      "execution_count": 233,
      "outputs": [
        {
          "output_type": "execute_result",
          "data": {
            "text/plain": [
              "0.0    30988\n",
              "1.0      135\n",
              "Name: is_fraud, dtype: int64"
            ]
          },
          "metadata": {},
          "execution_count": 233
        }
      ]
    },
    {
      "cell_type": "code",
      "source": [
        "fraud = df[df['is_fraud']==1]\n",
        "\n",
        "normal = df[df['is_fraud']==0]"
      ],
      "metadata": {
        "id": "8JQ5r_xXmCRp"
      },
      "id": "8JQ5r_xXmCRp",
      "execution_count": 234,
      "outputs": []
    },
    {
      "cell_type": "code",
      "source": [
        "print(fraud.shape,normal.shape)"
      ],
      "metadata": {
        "colab": {
          "base_uri": "https://localhost:8080/"
        },
        "id": "fVVKAHR0mQVD",
        "outputId": "e4878545-2e01-42b8-c7f6-d2af96da8f30"
      },
      "id": "fVVKAHR0mQVD",
      "execution_count": 235,
      "outputs": [
        {
          "output_type": "stream",
          "name": "stdout",
          "text": [
            "(135, 23) (30988, 23)\n"
          ]
        }
      ]
    },
    {
      "cell_type": "code",
      "source": [
        "fraud.amt.describe()"
      ],
      "metadata": {
        "colab": {
          "base_uri": "https://localhost:8080/"
        },
        "id": "81FvTNfzmSIv",
        "outputId": "a95c723d-48dd-4991-8faa-06def11cadbc"
      },
      "id": "81FvTNfzmSIv",
      "execution_count": 236,
      "outputs": [
        {
          "output_type": "execute_result",
          "data": {
            "text/plain": [
              "count     135.000000\n",
              "mean      551.919778\n",
              "std       389.419335\n",
              "min         4.640000\n",
              "25%       277.040000\n",
              "50%       520.020000\n",
              "75%       909.705000\n",
              "max      1197.260000\n",
              "Name: amt, dtype: float64"
            ]
          },
          "metadata": {},
          "execution_count": 236
        }
      ]
    },
    {
      "cell_type": "code",
      "source": [
        "normal.amt.describe()"
      ],
      "metadata": {
        "colab": {
          "base_uri": "https://localhost:8080/"
        },
        "id": "eldru3K4mVR_",
        "outputId": "4a739159-fa74-4684-8fcf-d7816ed6950a"
      },
      "id": "eldru3K4mVR_",
      "execution_count": 237,
      "outputs": [
        {
          "output_type": "execute_result",
          "data": {
            "text/plain": [
              "count    30988.000000\n",
              "mean        67.083376\n",
              "std        126.746885\n",
              "min          1.000000\n",
              "25%          9.560000\n",
              "50%         46.415000\n",
              "75%         82.440000\n",
              "max       6600.440000\n",
              "Name: amt, dtype: float64"
            ]
          },
          "metadata": {},
          "execution_count": 237
        }
      ]
    },
    {
      "cell_type": "code",
      "source": [
        "df_sample= df.sample(frac = 0.1,random_state=1)\n",
        "\n",
        "df_sample.shape"
      ],
      "metadata": {
        "colab": {
          "base_uri": "https://localhost:8080/"
        },
        "id": "F9AU-yypmYZd",
        "outputId": "e255fb62-8f20-439a-e9f1-ebbc832c7764"
      },
      "id": "F9AU-yypmYZd",
      "execution_count": 238,
      "outputs": [
        {
          "output_type": "execute_result",
          "data": {
            "text/plain": [
              "(3112, 23)"
            ]
          },
          "metadata": {},
          "execution_count": 238
        }
      ]
    },
    {
      "cell_type": "code",
      "source": [
        "df.shape"
      ],
      "metadata": {
        "colab": {
          "base_uri": "https://localhost:8080/"
        },
        "id": "zrfXFodCmmR4",
        "outputId": "bc7bedf2-1b6b-462a-9450-a8296693edca"
      },
      "id": "zrfXFodCmmR4",
      "execution_count": 240,
      "outputs": [
        {
          "output_type": "execute_result",
          "data": {
            "text/plain": [
              "(31124, 23)"
            ]
          },
          "metadata": {},
          "execution_count": 240
        }
      ]
    },
    {
      "cell_type": "code",
      "source": [
        "Fraud = df_sample[df_sample['is_fraud']==1]\n",
        "\n",
        "Valid = df_sample[df_sample['is_fraud']==0]\n",
        "\n",
        "outlier_fraction = len(Fraud)/float(len(Valid))"
      ],
      "metadata": {
        "id": "UsHvwo5xmsh9"
      },
      "id": "UsHvwo5xmsh9",
      "execution_count": 241,
      "outputs": []
    },
    {
      "cell_type": "code",
      "source": [
        "print(outlier_fraction)\n",
        "\n",
        "print(\"Fraud Cases : {}\".format(len(Fraud)))\n",
        "\n",
        "print(\"Valid Cases : {}\".format(len(Valid)))"
      ],
      "metadata": {
        "colab": {
          "base_uri": "https://localhost:8080/"
        },
        "id": "8mQwuIjem1tg",
        "outputId": "ca34442d-2b93-4d87-d9ac-a2656dff5e3b"
      },
      "id": "8mQwuIjem1tg",
      "execution_count": 242,
      "outputs": [
        {
          "output_type": "stream",
          "name": "stdout",
          "text": [
            "0.005817711700064641\n",
            "Fraud Cases : 18\n",
            "Valid Cases : 3094\n"
          ]
        }
      ]
    },
    {
      "cell_type": "code",
      "source": [
        "#Create independent and Dependent Features\n",
        "columns = df_sample.columns.tolist()\n",
        "# Filter the columns to remove data we do not want\n",
        "columns = [c for c in columns if c not in [\"is_fraud\"]]\n",
        "# Store the variable we are predicting\n",
        "target = \"is_fraud\"\n",
        "# Define a random state\n",
        "state = np.random.RandomState(42)\n",
        "X = df_sample[columns]\n",
        "Y = df_sample[target]\n",
        "X_outliers = state.uniform(low=0, high=1, size=(X.shape[0], X.shape[1]))\n",
        "# Print the shapes of X & Y\n",
        "print(X.shape)\n",
        "print(Y.shape)"
      ],
      "metadata": {
        "colab": {
          "base_uri": "https://localhost:8080/"
        },
        "id": "gc_ozi_3m4sp",
        "outputId": "7d11b128-302a-435a-aeda-0065ab231314"
      },
      "id": "gc_ozi_3m4sp",
      "execution_count": 243,
      "outputs": [
        {
          "output_type": "stream",
          "name": "stdout",
          "text": [
            "(3112, 22)\n",
            "(3112,)\n"
          ]
        }
      ]
    },
    {
      "cell_type": "code",
      "source": [
        "classifiers = {\n",
        "    \"Isolation Forest\":IsolationForest(n_estimators=100, max_samples=len(X),\n",
        "                                       contamination=outlier_fraction,random_state=state, verbose=0),\n",
        "    \"Local Outlier Factor\":LocalOutlierFactor(n_neighbors=20, algorithm='auto',\n",
        "                                              leaf_size=30, metric='minkowski',\n",
        "                                              p=2, metric_params=None, contamination=outlier_fraction),\n",
        "}\n",
        "\n",
        "type(classifiers)"
      ],
      "metadata": {
        "colab": {
          "base_uri": "https://localhost:8080/"
        },
        "id": "jNKY_KqcnG8l",
        "outputId": "6cf6e9fd-71a7-4553-dea0-9d183464f8b4"
      },
      "id": "jNKY_KqcnG8l",
      "execution_count": 246,
      "outputs": [
        {
          "output_type": "execute_result",
          "data": {
            "text/plain": [
              "dict"
            ]
          },
          "metadata": {},
          "execution_count": 246
        }
      ]
    },
    {
      "cell_type": "code",
      "source": [
        "from sklearn import preprocessing\n",
        "le = preprocessing.LabelEncoder()\n",
        "for column_name in X.columns:\n",
        "    if X[column_name].dtype == object:\n",
        "        X[column_name] = le.fit_transform(X[column_name])\n",
        "    else:\n",
        "        pass"
      ],
      "metadata": {
        "colab": {
          "base_uri": "https://localhost:8080/"
        },
        "id": "dRA6Dzg0nTo2",
        "outputId": "9c2f581c-401d-4663-88fc-7942e2f44116"
      },
      "id": "dRA6Dzg0nTo2",
      "execution_count": 247,
      "outputs": [
        {
          "output_type": "stream",
          "name": "stderr",
          "text": [
            "<ipython-input-247-df4e8b2b4e31>:5: SettingWithCopyWarning: \n",
            "A value is trying to be set on a copy of a slice from a DataFrame.\n",
            "Try using .loc[row_indexer,col_indexer] = value instead\n",
            "\n",
            "See the caveats in the documentation: https://pandas.pydata.org/pandas-docs/stable/user_guide/indexing.html#returning-a-view-versus-a-copy\n",
            "  X[column_name] = le.fit_transform(X[column_name])\n",
            "<ipython-input-247-df4e8b2b4e31>:5: SettingWithCopyWarning: \n",
            "A value is trying to be set on a copy of a slice from a DataFrame.\n",
            "Try using .loc[row_indexer,col_indexer] = value instead\n",
            "\n",
            "See the caveats in the documentation: https://pandas.pydata.org/pandas-docs/stable/user_guide/indexing.html#returning-a-view-versus-a-copy\n",
            "  X[column_name] = le.fit_transform(X[column_name])\n",
            "<ipython-input-247-df4e8b2b4e31>:5: SettingWithCopyWarning: \n",
            "A value is trying to be set on a copy of a slice from a DataFrame.\n",
            "Try using .loc[row_indexer,col_indexer] = value instead\n",
            "\n",
            "See the caveats in the documentation: https://pandas.pydata.org/pandas-docs/stable/user_guide/indexing.html#returning-a-view-versus-a-copy\n",
            "  X[column_name] = le.fit_transform(X[column_name])\n",
            "<ipython-input-247-df4e8b2b4e31>:5: SettingWithCopyWarning: \n",
            "A value is trying to be set on a copy of a slice from a DataFrame.\n",
            "Try using .loc[row_indexer,col_indexer] = value instead\n",
            "\n",
            "See the caveats in the documentation: https://pandas.pydata.org/pandas-docs/stable/user_guide/indexing.html#returning-a-view-versus-a-copy\n",
            "  X[column_name] = le.fit_transform(X[column_name])\n",
            "<ipython-input-247-df4e8b2b4e31>:5: SettingWithCopyWarning: \n",
            "A value is trying to be set on a copy of a slice from a DataFrame.\n",
            "Try using .loc[row_indexer,col_indexer] = value instead\n",
            "\n",
            "See the caveats in the documentation: https://pandas.pydata.org/pandas-docs/stable/user_guide/indexing.html#returning-a-view-versus-a-copy\n",
            "  X[column_name] = le.fit_transform(X[column_name])\n",
            "<ipython-input-247-df4e8b2b4e31>:5: SettingWithCopyWarning: \n",
            "A value is trying to be set on a copy of a slice from a DataFrame.\n",
            "Try using .loc[row_indexer,col_indexer] = value instead\n",
            "\n",
            "See the caveats in the documentation: https://pandas.pydata.org/pandas-docs/stable/user_guide/indexing.html#returning-a-view-versus-a-copy\n",
            "  X[column_name] = le.fit_transform(X[column_name])\n",
            "<ipython-input-247-df4e8b2b4e31>:5: SettingWithCopyWarning: \n",
            "A value is trying to be set on a copy of a slice from a DataFrame.\n",
            "Try using .loc[row_indexer,col_indexer] = value instead\n",
            "\n",
            "See the caveats in the documentation: https://pandas.pydata.org/pandas-docs/stable/user_guide/indexing.html#returning-a-view-versus-a-copy\n",
            "  X[column_name] = le.fit_transform(X[column_name])\n",
            "<ipython-input-247-df4e8b2b4e31>:5: SettingWithCopyWarning: \n",
            "A value is trying to be set on a copy of a slice from a DataFrame.\n",
            "Try using .loc[row_indexer,col_indexer] = value instead\n",
            "\n",
            "See the caveats in the documentation: https://pandas.pydata.org/pandas-docs/stable/user_guide/indexing.html#returning-a-view-versus-a-copy\n",
            "  X[column_name] = le.fit_transform(X[column_name])\n",
            "<ipython-input-247-df4e8b2b4e31>:5: SettingWithCopyWarning: \n",
            "A value is trying to be set on a copy of a slice from a DataFrame.\n",
            "Try using .loc[row_indexer,col_indexer] = value instead\n",
            "\n",
            "See the caveats in the documentation: https://pandas.pydata.org/pandas-docs/stable/user_guide/indexing.html#returning-a-view-versus-a-copy\n",
            "  X[column_name] = le.fit_transform(X[column_name])\n",
            "<ipython-input-247-df4e8b2b4e31>:5: SettingWithCopyWarning: \n",
            "A value is trying to be set on a copy of a slice from a DataFrame.\n",
            "Try using .loc[row_indexer,col_indexer] = value instead\n",
            "\n",
            "See the caveats in the documentation: https://pandas.pydata.org/pandas-docs/stable/user_guide/indexing.html#returning-a-view-versus-a-copy\n",
            "  X[column_name] = le.fit_transform(X[column_name])\n",
            "<ipython-input-247-df4e8b2b4e31>:5: SettingWithCopyWarning: \n",
            "A value is trying to be set on a copy of a slice from a DataFrame.\n",
            "Try using .loc[row_indexer,col_indexer] = value instead\n",
            "\n",
            "See the caveats in the documentation: https://pandas.pydata.org/pandas-docs/stable/user_guide/indexing.html#returning-a-view-versus-a-copy\n",
            "  X[column_name] = le.fit_transform(X[column_name])\n",
            "<ipython-input-247-df4e8b2b4e31>:5: SettingWithCopyWarning: \n",
            "A value is trying to be set on a copy of a slice from a DataFrame.\n",
            "Try using .loc[row_indexer,col_indexer] = value instead\n",
            "\n",
            "See the caveats in the documentation: https://pandas.pydata.org/pandas-docs/stable/user_guide/indexing.html#returning-a-view-versus-a-copy\n",
            "  X[column_name] = le.fit_transform(X[column_name])\n"
          ]
        }
      ]
    },
    {
      "cell_type": "code",
      "source": [
        "n_outliers = len(Fraud)\n",
        "for i, (clf_name,clf) in enumerate(classifiers.items()):\n",
        "    #Fit the data and tag outliers\n",
        "    if clf_name == \"Local Outlier Factor\":\n",
        "        y_pred = clf.fit_predict(X)\n",
        "        scores_prediction = clf.negative_outlier_factor_\n",
        "    else:\n",
        "        clf.fit(X)\n",
        "        scores_prediction = clf.decision_function(X)\n",
        "        y_pred = clf.predict(X)\n",
        "    #Reshape the prediction values to 0 for Valid transactions , 1 for Fraud transactions\n",
        "    y_pred[y_pred == 1] = 0\n",
        "    y_pred[y_pred == -1] = 1\n",
        "    n_errors = (y_pred != Y).sum()\n",
        "    # Run Classification Metrics\n",
        "    print(\"{}: {}\".format(clf_name,n_errors))\n",
        "    print(\"Accuracy Score :\")\n",
        "    print(accuracy_score(Y,y_pred))"
      ],
      "metadata": {
        "colab": {
          "base_uri": "https://localhost:8080/"
        },
        "id": "h49TwxHbnbXn",
        "outputId": "2684fd78-8243-4766-fc5b-1f06d56facda"
      },
      "id": "h49TwxHbnbXn",
      "execution_count": 248,
      "outputs": [
        {
          "output_type": "stream",
          "name": "stderr",
          "text": [
            "/usr/local/lib/python3.10/dist-packages/sklearn/base.py:439: UserWarning: X does not have valid feature names, but IsolationForest was fitted with feature names\n",
            "  warnings.warn(\n"
          ]
        },
        {
          "output_type": "stream",
          "name": "stdout",
          "text": [
            "Isolation Forest: 35\n",
            "Accuracy Score :\n",
            "0.9887532133676092\n",
            "Local Outlier Factor: 37\n",
            "Accuracy Score :\n",
            "0.9881105398457584\n"
          ]
        }
      ]
    },
    {
      "cell_type": "markdown",
      "source": [
        "Observations :\n",
        "\n",
        "Isolation Forest has a 98.87% which is more accurate than LOF of 98.81%.\n",
        "\n",
        "When comparing error precision & recall for 2 models , the Isolation Forest performed much better than the LOF."
      ],
      "metadata": {
        "id": "BeRSHLTFnk3W"
      },
      "id": "BeRSHLTFnk3W"
    }
  ],
  "metadata": {
    "kernelspec": {
      "display_name": "Python 3 (ipykernel)",
      "language": "python",
      "name": "python3"
    },
    "colab": {
      "provenance": [],
      "include_colab_link": true
    }
  },
  "nbformat": 4,
  "nbformat_minor": 5
}